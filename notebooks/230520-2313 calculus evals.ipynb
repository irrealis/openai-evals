{
 "cells": [
  {
   "cell_type": "code",
   "execution_count": 2,
   "metadata": {},
   "outputs": [],
   "source": [
    "import yaml\n",
    "\n",
    "import json\n",
    "import os\n",
    "import pandas as pd\n",
    "\n",
    "registry_pth = os.path.join(\"..\", \"evals\", \"registry\")\n",
    "os.makedirs(os.path.join(registry_pth, \"data\", \"calculus\"), exist_ok=True)\n",
    "\n",
    "def create_chat_prompt(prompt, ideal, rubric):\n",
    "  return dict(\n",
    "    input = [\n",
    "      dict(\n",
    "        role = 'system',\n",
    "        content = prompt,\n",
    "      ),\n",
    "    ],\n",
    "    ideal = ideal,\n",
    "    rubric = rubric,\n",
    "  )\n",
    "\n",
    "def create_chat_prompt_labeled(prompt, ideal, rubric, completion, choice):\n",
    "  return dict(\n",
    "    input = [\n",
    "      dict(\n",
    "        role = 'system',\n",
    "        content = prompt,\n",
    "      ),\n",
    "    ],\n",
    "    ideal = ideal,\n",
    "    rubric = rubric,\n",
    "    completion = completion,\n",
    "    choice = choice,\n",
    "  )"
   ]
  },
  {
   "cell_type": "code",
   "execution_count": 122,
   "metadata": {},
   "outputs": [
    {
     "data": {
      "text/plain": [
       "'c:\\\\Users\\\\kaben\\\\Documents\\\\GitHub\\\\irrealis\\\\openai-evals\\\\notebooks'"
      ]
     },
     "execution_count": 122,
     "metadata": {},
     "output_type": "execute_result"
    }
   ],
   "source": []
  },
  {
   "cell_type": "code",
   "execution_count": 64,
   "metadata": {},
   "outputs": [
    {
     "data": {
      "text/plain": [
       "[{'input': [{'role': 'system',\n",
       "    'content': 'Evaluate the following integral:\\n$$\\n\\\\int e^{x} dx\\n$$'}],\n",
       "  'ideal': 'Because the derivative of $e^x$ is $e^x$, it follows that $\\\\int e^x dx$ is simply $e^x + C$.',\n",
       "  'rubric': '\\n- Final Answer Correctness (50 points): The final answer provided by the model matches the expert\\'s answer.\\n  - 50: The final answer is \"e^x + C\".\\n  - 0: The final answer is not \"e^x + C\".\\n- Explanation Correctness (50 points): The explanation provided by the model to arrive at the answer is correct and logically sound.\\n  - 50: The explanation correctly states that the derivative of \"e^x\" is \"e^x\", so the integral of \"e^x dx\" is \"e^x + C\".\\n  - 25: The explanation is partially correct but either does not correctly identify the derivative of \"e^x\" as \"e^x\" or does not correctly state that the integral of \"e^x dx\" is \"e^x + C\".\\n  - 0: The explanation is incorrect or missing.\\n\\nThere is little nuance in the grading of this problem, as the formula is fundamental and usually memorized as part of a standard integration table.'}]"
      ]
     },
     "execution_count": 64,
     "metadata": {},
     "output_type": "execute_result"
    }
   ],
   "source": [
    "prompt = create_chat_prompt(\n",
    "  prompt = '''Evaluate the following integral:\n",
    "$$\n",
    "\\int e^{x} dx\n",
    "$$''',\n",
    "  ideal = '''Because the derivative of $e^x$ is $e^x$, it follows that $\\int e^x dx$ is simply $e^x + C$.''',\n",
    "  rubric = '''\n",
    "- Final Answer Correctness (50 points): The final answer provided by the model matches the expert's answer.\n",
    "  - 50: The final answer is \"e^x + C\".\n",
    "  - 0: The final answer is not \"e^x + C\".\n",
    "- Explanation Correctness (50 points): The explanation provided by the model to arrive at the answer is correct and logically sound.\n",
    "  - 50: The explanation correctly states that the derivative of \"e^x\" is \"e^x\", so the integral of \"e^x dx\" is \"e^x + C\".\n",
    "  - 25: The explanation is partially correct but either does not correctly identify the derivative of \"e^x\" as \"e^x\" or does not correctly state that the integral of \"e^x dx\" is \"e^x + C\".\n",
    "  - 0: The explanation is incorrect or missing.\n",
    "\n",
    "There is little nuance in the grading of this problem, as the formula is fundamental and usually memorized as part of a standard integration table.'''\n",
    ")\n",
    "prompts = [prompt]\n",
    "prompts"
   ]
  },
  {
   "cell_type": "code",
   "execution_count": 67,
   "metadata": {},
   "outputs": [
    {
     "data": {
      "text/html": [
       "<div>\n",
       "<style scoped>\n",
       "    .dataframe tbody tr th:only-of-type {\n",
       "        vertical-align: middle;\n",
       "    }\n",
       "\n",
       "    .dataframe tbody tr th {\n",
       "        vertical-align: top;\n",
       "    }\n",
       "\n",
       "    .dataframe thead th {\n",
       "        text-align: right;\n",
       "    }\n",
       "</style>\n",
       "<table border=\"1\" class=\"dataframe\">\n",
       "  <thead>\n",
       "    <tr style=\"text-align: right;\">\n",
       "      <th></th>\n",
       "      <th>input</th>\n",
       "      <th>ideal</th>\n",
       "      <th>rubric</th>\n",
       "    </tr>\n",
       "  </thead>\n",
       "  <tbody>\n",
       "    <tr>\n",
       "      <th>0</th>\n",
       "      <td>[{'role': 'system', 'content': 'Evaluate the f...</td>\n",
       "      <td>Because the derivative of $e^x$ is $e^x$, it f...</td>\n",
       "      <td>\\n- Final Answer Correctness (50 points): The ...</td>\n",
       "    </tr>\n",
       "  </tbody>\n",
       "</table>\n",
       "</div>"
      ],
      "text/plain": [
       "                                               input  \\\n",
       "0  [{'role': 'system', 'content': 'Evaluate the f...   \n",
       "\n",
       "                                               ideal  \\\n",
       "0  Because the derivative of $e^x$ is $e^x$, it f...   \n",
       "\n",
       "                                              rubric  \n",
       "0  \\n- Final Answer Correctness (50 points): The ...  "
      ]
     },
     "execution_count": 67,
     "metadata": {},
     "output_type": "execute_result"
    }
   ],
   "source": [
    "df = pd.DataFrame(\n",
    "  data = dict(\n",
    "    input = [p['input'] for p in prompts],\n",
    "    ideal = [p['ideal'] for p in prompts],\n",
    "    rubric = [p['rubric'] for p in prompts],\n",
    "  )\n",
    ")\n",
    "df"
   ]
  },
  {
   "cell_type": "code",
   "execution_count": 71,
   "metadata": {},
   "outputs": [],
   "source": [
    "demo_pth = os.path.join(registry_pth, 'data', 'calculus', 'demo.jsonl')\n",
    "os.remove(demo_pth)\n",
    "df[['input', 'ideal', 'rubric']].to_json(demo_pth, lines=True, orient=\"records\")"
   ]
  },
  {
   "cell_type": "code",
   "execution_count": 74,
   "metadata": {},
   "outputs": [
    {
     "data": {
      "text/plain": [
       "['230520222738MXRJLY3S_gpt-3.5-turbo_test-match.jsonl',\n",
       " '230520223055VONH5IV3_gpt-3.5-turbo_test-match.jsonl',\n",
       " '230520223256KETQMTZK_gpt-3.5-turbo_test-match.jsonl',\n",
       " '230521050221DK7GBI5E_gpt-3.5-turbo_lambada.jsonl',\n",
       " '2305210630073JJ2YZX3_gpt-3.5-turbo_test-match.jsonl',\n",
       " '230521063016GCLA67AX_gpt-3.5-turbo_calculus.jsonl',\n",
       " '230521064003ZX6CMR3C_gpt-3.5-turbo_calculus.jsonl',\n",
       " '230521065918QNDMUMW3_gpt-3.5-turbo_calculus.jsonl',\n",
       " '230521070112BCUEO4NZ_gpt-3.5-turbo_calculus.jsonl',\n",
       " '230521070826AALQ3GPC_gpt-3.5-turbo_calculus.jsonl',\n",
       " '230521071107CFD45PFO_gpt-3.5-turbo_calculus.jsonl',\n",
       " '2305210712373AURJBGC_gpt-3.5-turbo_calculus.jsonl',\n",
       " '230521234127DQBEUDEL_gpt-3.5-turbo_calculus.jsonl']"
      ]
     },
     "execution_count": 74,
     "metadata": {},
     "output_type": "execute_result"
    }
   ],
   "source": [
    "logfiles = os.listdir('/tmp/evallogs/')\n",
    "logfiles.sort()\n",
    "logfiles"
   ]
  },
  {
   "cell_type": "code",
   "execution_count": 72,
   "metadata": {},
   "outputs": [
    {
     "name": "stderr",
     "output_type": "stream",
     "text": [
      "[2023-05-21 17:41:27,640] [registry.py:249] Loading registry from C:\\Users\\kaben\\Documents\\GitHub\\irrealis\\openai-evals\\evals\\registry\\evals\n",
      "[2023-05-21 17:41:27,938] [registry.py:249] Loading registry from C:\\Users\\kaben\\.evals\\evals\n",
      "[2023-05-21 17:41:27,940] [oaieval.py:110] \u001b[1;35mRun started: 230521234127DQBEUDEL\u001b[0m\n",
      "[2023-05-21 17:41:27,941] [registry.py:249] Loading registry from C:\\Users\\kaben\\Documents\\GitHub\\irrealis\\openai-evals\\evals\\registry\\modelgraded\n",
      "[2023-05-21 17:41:27,964] [registry.py:249] Loading registry from C:\\Users\\kaben\\.evals\\modelgraded\n",
      "[2023-05-21 17:41:27,964] [data.py:75] Fetching calculus/demo.jsonl\n",
      "[2023-05-21 17:41:27,968] [eval.py:33] Evaluating 1 samples\n",
      "[2023-05-21 17:41:27,972] [eval.py:138] Running in threaded mode with 10 threads!\n",
      "\n",
      "  0%|          | 0/1 [00:00<?, ?it/s]\n",
      "100%|██████████| 1/1 [00:16<00:00, 16.79s/it]\n",
      "100%|██████████| 1/1 [00:16<00:00, 16.80s/it]\n",
      "[2023-05-21 17:41:44,771] [record.py:341] Final report: {'counts/0': 1, 'score': 0.0}. Logged to /tmp/evallogs/230521234127DQBEUDEL_gpt-3.5-turbo_calculus.jsonl\n",
      "[2023-05-21 17:41:44,771] [oaieval.py:147] Final report:\n",
      "[2023-05-21 17:41:44,771] [oaieval.py:149] counts/0: 1\n",
      "[2023-05-21 17:41:44,771] [oaieval.py:149] score: 0.0\n",
      "[2023-05-21 17:41:44,772] [record.py:330] Logged 3 rows of events to /tmp/evallogs/230521234127DQBEUDEL_gpt-3.5-turbo_calculus.jsonl: insert_time=1.042ms\n"
     ]
    }
   ],
   "source": [
    "!oaieval gpt-3.5-turbo calculus"
   ]
  },
  {
   "cell_type": "code",
   "execution_count": 1,
   "metadata": {},
   "outputs": [
    {
     "ename": "NameError",
     "evalue": "name 'os' is not defined",
     "output_type": "error",
     "traceback": [
      "\u001b[1;31m---------------------------------------------------------------------------\u001b[0m",
      "\u001b[1;31mNameError\u001b[0m                                 Traceback (most recent call last)",
      "Cell \u001b[1;32mIn[1], line 9\u001b[0m\n\u001b[0;32m      1\u001b[0m \u001b[39m# How to process the log events generated by oaieval\u001b[39;00m\n\u001b[0;32m      2\u001b[0m \u001b[39m#log_name = '230521064003ZX6CMR3C_gpt-3.5-turbo_calculus.jsonl'\u001b[39;00m\n\u001b[0;32m      3\u001b[0m \u001b[39m#log_name = '230521065918QNDMUMW3_gpt-3.5-turbo_calculus.jsonl\u001b[39;00m\n\u001b[1;32m   (...)\u001b[0m\n\u001b[0;32m      6\u001b[0m \u001b[39m#log_name = '230521071107CFD45PFO_gpt-3.5-turbo_calculus.jsonl'\u001b[39;00m\n\u001b[0;32m      7\u001b[0m \u001b[39m#log_name = '2305210712373AURJBGC_gpt-3.5-turbo_calculus.jsonl'\u001b[39;00m\n\u001b[1;32m----> 9\u001b[0m logfiles \u001b[39m=\u001b[39m os\u001b[39m.\u001b[39mlistdir(\u001b[39m'\u001b[39m\u001b[39m/tmp/evallogs/\u001b[39m\u001b[39m'\u001b[39m)\n\u001b[0;32m     10\u001b[0m logfiles\u001b[39m.\u001b[39msort()\n\u001b[0;32m     11\u001b[0m \u001b[39mprint\u001b[39m(logfiles)\n",
      "\u001b[1;31mNameError\u001b[0m: name 'os' is not defined"
     ]
    }
   ],
   "source": [
    "# How to process the log events generated by oaieval\n",
    "#log_name = '230521064003ZX6CMR3C_gpt-3.5-turbo_calculus.jsonl'\n",
    "#log_name = '230521065918QNDMUMW3_gpt-3.5-turbo_calculus.jsonl\n",
    "#log_name = '230521070112BCUEO4NZ_gpt-3.5-turbo_calculus.jsonl'\n",
    "#log_name = '230521070826AALQ3GPC_gpt-3.5-turbo_calculus.jsonl'\n",
    "#log_name = '230521071107CFD45PFO_gpt-3.5-turbo_calculus.jsonl'\n",
    "#log_name = '2305210712373AURJBGC_gpt-3.5-turbo_calculus.jsonl'\n",
    "\n",
    "logfiles = os.listdir('/tmp/evallogs/')\n",
    "logfiles.sort()\n",
    "print(logfiles)\n",
    "log_name = logfiles[-1]\n",
    "print(log_name)\n",
    "events = f\"/tmp/evallogs/{log_name}\"\n",
    "with open(events, \"r\") as f:\n",
    "    events_df = pd.read_json(f, lines=True)"
   ]
  },
  {
   "cell_type": "code",
   "execution_count": 93,
   "metadata": {},
   "outputs": [
    {
     "name": "stdout",
     "output_type": "stream",
     "text": [
      "**************************************** prompt\n",
      "Evaluate the following integral:\n",
      "$$\n",
      "\\int e^{x} dx\n",
      "$$\n",
      "---------------------------------------- sampled\n",
      "We know that the derivative of $e^x$ is itself, so we can use integration by substitution. Let $u = x$ and $du = dx$. Then we have:\n",
      "$$\n",
      "\\int e^{x} dx = \\int e^{u} du = e^u + C = e^x + C\n",
      "$$\n",
      "where $C$ is the constant of integration. Therefore, the solution to the integral is $\\boxed{e^x + C}$.\n",
      "**************************************** prompt\n",
      "You are comparing a submitted answer to an expert answer for a given mathematics problem:\n",
      "---\n",
      "[Mathematics Problem]: Evaluate the following integral:\n",
      "$$\n",
      "\\int e^{{x}} dx\n",
      "$$\n",
      "---\n",
      "[Expert]: Because the derivative of $e^x$ is $e^x$, it follows that $\\int e^x dx$ is simply $e^x + C$.\n",
      "---\n",
      "[Submission]: We know that the derivative of $e^x$ is itself, so we can use integration by substitution. Let $u = x$ and $du = dx$. Then we have:\n",
      "$$\n",
      "\\int e^{x} dx = \\int e^{u} du = e^u + C = e^x + C\n",
      "$$\n",
      "where $C$ is the constant of integration. Therefore, the solution to the integral is $\\boxed{e^x + C}$.\n",
      "---\n",
      "Use the following rubric to score the submission. Round the score to the nearest integer in the range 0-100 inclusive.\n",
      "\n",
      "[Rubric]: \n",
      "- Final Answer Correctness (50 points): The final answer provided by the model matches the expert's answer.\n",
      "  - 50: The final answer is \"e^x + C\".\n",
      "  - 0: The final answer is not \"e^x + C\".\n",
      "- Explanation Correctness (50 points): The explanation provided by the model to arrive at the answer is correct and logically sound.\n",
      "  - 50: The explanation correctly states that the derivative of \"e^x\" is \"e^x\", so the integral of \"e^x dx\" is \"e^x + C\".\n",
      "  - 25: The explanation is partially correct but either does not correctly identify the derivative of \"e^x\" as \"e^x\" or does not correctly state that the integral of \"e^x dx\" is \"e^x + C\".\n",
      "  - 0: The explanation is incorrect or missing.\n",
      "\n",
      "There is little nuance in the grading of this problem, as the formula is fundamental and usually memorized as part of a standard integration table.\n",
      "\n",
      "First, write out in a step by step manner your reasoning to be sure that your conclusion is correct. Avoid simply stating the correct answer at the outset. Then print only a single choice from \"100\" or \"99\" or \"98\" or \"97\" or \"96\" or \"95\" or \"94\" or \"93\" or \"92\" or \"91\" or \"90\" or \"89\" or \"88\" or \"87\" or \"86\" or \"85\" or \"84\" or \"83\" or \"82\" or \"81\" or \"80\" or \"79\" or \"78\" or \"77\" or \"76\" or \"75\" or \"74\" or \"73\" or \"72\" or \"71\" or \"70\" or \"69\" or \"68\" or \"67\" or \"66\" or \"65\" or \"64\" or \"63\" or \"62\" or \"61\" or \"60\" or \"59\" or \"58\" or \"57\" or \"56\" or \"55\" or \"54\" or \"53\" or \"52\" or \"51\" or \"50\" or \"49\" or \"48\" or \"47\" or \"46\" or \"45\" or \"44\" or \"43\" or \"42\" or \"41\" or \"40\" or \"39\" or \"38\" or \"37\" or \"36\" or \"35\" or \"34\" or \"33\" or \"32\" or \"31\" or \"30\" or \"29\" or \"28\" or \"27\" or \"26\" or \"25\" or \"24\" or \"23\" or \"22\" or \"21\" or \"20\" or \"19\" or \"18\" or \"17\" or \"16\" or \"15\" or \"14\" or \"13\" or \"12\" or \"11\" or \"10\" or \"9\" or \"8\" or \"7\" or \"6\" or \"5\" or \"4\" or \"3\" or \"2\" or \"1\" or \"0\" (without quotes or punctuation) on its own line corresponding to the correct answer. At the end, repeat just the answer by itself on a new line.\n",
      "\n",
      "Reasoning:\n",
      "---------------------------------------- sampled\n",
      "The submission correctly identifies that the derivative of $e^x$ is itself and uses integration by substitution to arrive at the answer of $e^x + C$. The explanation is logically sound and matches the expert's answer. Therefore, the score is 100.\n",
      "\n",
      "100\n",
      "\n",
      "e^x + C\n"
     ]
    }
   ],
   "source": [
    "for entry in events_df['data']:\n",
    "    if entry == entry:\n",
    "        if 'prompt' in entry:\n",
    "            print('*' * 40, 'prompt')\n",
    "            for x in entry['prompt']:\n",
    "                print(x['content'])\n",
    "        if 'sampled' in entry:\n",
    "            print('-' * 40, 'sampled')\n",
    "            for x in entry['sampled']:\n",
    "                print(x)"
   ]
  },
  {
   "cell_type": "code",
   "execution_count": 94,
   "metadata": {},
   "outputs": [
    {
     "data": {
      "text/html": [
       "<div>\n",
       "<style scoped>\n",
       "    .dataframe tbody tr th:only-of-type {\n",
       "        vertical-align: middle;\n",
       "    }\n",
       "\n",
       "    .dataframe tbody tr th {\n",
       "        vertical-align: top;\n",
       "    }\n",
       "\n",
       "    .dataframe thead th {\n",
       "        text-align: right;\n",
       "    }\n",
       "</style>\n",
       "<table border=\"1\" class=\"dataframe\">\n",
       "  <thead>\n",
       "    <tr style=\"text-align: right;\">\n",
       "      <th></th>\n",
       "      <th>spec</th>\n",
       "      <th>final_report</th>\n",
       "      <th>run_id</th>\n",
       "      <th>event_id</th>\n",
       "      <th>sample_id</th>\n",
       "      <th>type</th>\n",
       "      <th>data</th>\n",
       "      <th>created_by</th>\n",
       "      <th>created_at</th>\n",
       "    </tr>\n",
       "  </thead>\n",
       "  <tbody>\n",
       "    <tr>\n",
       "      <th>0</th>\n",
       "      <td>{'completion_fns': ['gpt-3.5-turbo'], 'eval_na...</td>\n",
       "      <td>NaN</td>\n",
       "      <td>NaN</td>\n",
       "      <td>NaN</td>\n",
       "      <td>NaN</td>\n",
       "      <td>NaN</td>\n",
       "      <td>NaN</td>\n",
       "      <td>NaN</td>\n",
       "      <td>NaT</td>\n",
       "    </tr>\n",
       "    <tr>\n",
       "      <th>1</th>\n",
       "      <td>NaN</td>\n",
       "      <td>{'counts/100': 1, 'score': 1.0}</td>\n",
       "      <td>NaN</td>\n",
       "      <td>NaN</td>\n",
       "      <td>NaN</td>\n",
       "      <td>NaN</td>\n",
       "      <td>NaN</td>\n",
       "      <td>NaN</td>\n",
       "      <td>NaT</td>\n",
       "    </tr>\n",
       "    <tr>\n",
       "      <th>2</th>\n",
       "      <td>NaN</td>\n",
       "      <td>NaN</td>\n",
       "      <td>230521235705QVVVZTWJ</td>\n",
       "      <td>0.0</td>\n",
       "      <td>calculus.dev.0</td>\n",
       "      <td>sampling</td>\n",
       "      <td>{'prompt': [{'role': 'system', 'content': 'Eva...</td>\n",
       "      <td></td>\n",
       "      <td>2023-05-21 23:57:11.902654+00:00</td>\n",
       "    </tr>\n",
       "    <tr>\n",
       "      <th>3</th>\n",
       "      <td>NaN</td>\n",
       "      <td>NaN</td>\n",
       "      <td>230521235705QVVVZTWJ</td>\n",
       "      <td>1.0</td>\n",
       "      <td>calculus.dev.0</td>\n",
       "      <td>sampling</td>\n",
       "      <td>{'prompt': [{'role': 'user', 'content': 'You a...</td>\n",
       "      <td></td>\n",
       "      <td>2023-05-21 23:57:15.977631+00:00</td>\n",
       "    </tr>\n",
       "    <tr>\n",
       "      <th>4</th>\n",
       "      <td>NaN</td>\n",
       "      <td>NaN</td>\n",
       "      <td>230521235705QVVVZTWJ</td>\n",
       "      <td>2.0</td>\n",
       "      <td>calculus.dev.0</td>\n",
       "      <td>metrics</td>\n",
       "      <td>{'choice': '100', 'score': 1.0}</td>\n",
       "      <td></td>\n",
       "      <td>2023-05-21 23:57:16.005656+00:00</td>\n",
       "    </tr>\n",
       "  </tbody>\n",
       "</table>\n",
       "</div>"
      ],
      "text/plain": [
       "                                                spec  \\\n",
       "0  {'completion_fns': ['gpt-3.5-turbo'], 'eval_na...   \n",
       "1                                                NaN   \n",
       "2                                                NaN   \n",
       "3                                                NaN   \n",
       "4                                                NaN   \n",
       "\n",
       "                      final_report                run_id  event_id  \\\n",
       "0                              NaN                   NaN       NaN   \n",
       "1  {'counts/100': 1, 'score': 1.0}                   NaN       NaN   \n",
       "2                              NaN  230521235705QVVVZTWJ       0.0   \n",
       "3                              NaN  230521235705QVVVZTWJ       1.0   \n",
       "4                              NaN  230521235705QVVVZTWJ       2.0   \n",
       "\n",
       "        sample_id      type  \\\n",
       "0             NaN       NaN   \n",
       "1             NaN       NaN   \n",
       "2  calculus.dev.0  sampling   \n",
       "3  calculus.dev.0  sampling   \n",
       "4  calculus.dev.0   metrics   \n",
       "\n",
       "                                                data created_by  \\\n",
       "0                                                NaN        NaN   \n",
       "1                                                NaN        NaN   \n",
       "2  {'prompt': [{'role': 'system', 'content': 'Eva...              \n",
       "3  {'prompt': [{'role': 'user', 'content': 'You a...              \n",
       "4                    {'choice': '100', 'score': 1.0}              \n",
       "\n",
       "                        created_at  \n",
       "0                              NaT  \n",
       "1                              NaT  \n",
       "2 2023-05-21 23:57:11.902654+00:00  \n",
       "3 2023-05-21 23:57:15.977631+00:00  \n",
       "4 2023-05-21 23:57:16.005656+00:00  "
      ]
     },
     "execution_count": 94,
     "metadata": {},
     "output_type": "execute_result"
    }
   ],
   "source": [
    "events_df"
   ]
  },
  {
   "cell_type": "code",
   "execution_count": 121,
   "metadata": {},
   "outputs": [
    {
     "name": "stdout",
     "output_type": "stream",
     "text": [
      "You are comparing a submitted answer to an expert answer for a given mathematics problem:\n",
      "---\n",
      "[Mathematics Problem]: Evaluate the following integral:\n",
      "$$\n",
      "\\int e^{{x}} dx\n",
      "$$\n",
      "---\n",
      "[Expert]: Because the derivative of $e^x$ is $e^x$, it follows that $\\int e^x dx$ is simply $e^x + C$.\n",
      "---\n",
      "[Submission]: We know that the derivative of $e^x$ is itself, so we can use integration by substitution. Let $u = x$ and $du = dx$. Then we have:\n",
      "$$\n",
      "\\int e^{x} dx = \\int e^{u} du = e^u + C = e^x + C\n",
      "$$\n",
      "where $C$ is the constant of integration. Therefore, the solution to the integral is $\\boxed{e^x + C}$.\n",
      "---\n",
      "Use the following rubric to score the submission. Round the score to the nearest integer in the range 0-100 inclusive.\n",
      "\n",
      "[Rubric]: \n",
      "- Final Answer Correctness (50 points): The final answer provided by the model matches the expert's answer.\n",
      "  - 50: The final answer is \"e^x + C\".\n",
      "  - 0: The final answer is not \"e^x + C\".\n",
      "- Explanation Correctness (50 points): The explanation provided by the model to arrive at the answer is correct and logically sound.\n",
      "  - 50: The explanation correctly states that the derivative of \"e^x\" is \"e^x\", so the integral of \"e^x dx\" is \"e^x + C\".\n",
      "  - 25: The explanation is partially correct but either does not correctly identify the derivative of \"e^x\" as \"e^x\" or does not correctly state that the integral of \"e^x dx\" is \"e^x + C\".\n",
      "  - 0: The explanation is incorrect or missing.\n",
      "\n",
      "There is little nuance in the grading of this problem, as the formula is fundamental and usually memorized as part of a standard integration table.\n",
      "\n",
      "First, write out in a step by step manner your reasoning to be sure that your conclusion is correct. Avoid simply stating the correct answer at the outset. Then print only a single choice from \"100\" or \"99\" or \"98\" or \"97\" or \"96\" or \"95\" or \"94\" or \"93\" or \"92\" or \"91\" or \"90\" or \"89\" or \"88\" or \"87\" or \"86\" or \"85\" or \"84\" or \"83\" or \"82\" or \"81\" or \"80\" or \"79\" or \"78\" or \"77\" or \"76\" or \"75\" or \"74\" or \"73\" or \"72\" or \"71\" or \"70\" or \"69\" or \"68\" or \"67\" or \"66\" or \"65\" or \"64\" or \"63\" or \"62\" or \"61\" or \"60\" or \"59\" or \"58\" or \"57\" or \"56\" or \"55\" or \"54\" or \"53\" or \"52\" or \"51\" or \"50\" or \"49\" or \"48\" or \"47\" or \"46\" or \"45\" or \"44\" or \"43\" or \"42\" or \"41\" or \"40\" or \"39\" or \"38\" or \"37\" or \"36\" or \"35\" or \"34\" or \"33\" or \"32\" or \"31\" or \"30\" or \"29\" or \"28\" or \"27\" or \"26\" or \"25\" or \"24\" or \"23\" or \"22\" or \"21\" or \"20\" or \"19\" or \"18\" or \"17\" or \"16\" or \"15\" or \"14\" or \"13\" or \"12\" or \"11\" or \"10\" or \"9\" or \"8\" or \"7\" or \"6\" or \"5\" or \"4\" or \"3\" or \"2\" or \"1\" or \"0\" (without quotes or punctuation) on its own line corresponding to the correct answer. At the end, repeat just the answer by itself on a new line.\n",
      "\n",
      "Reasoning:\n"
     ]
    }
   ],
   "source": [
    "print(events_df['data'][3]['prompt'][0]['content'])"
   ]
  },
  {
   "cell_type": "code",
   "execution_count": 102,
   "metadata": {},
   "outputs": [
    {
     "ename": "ValueError",
     "evalue": "No axis named 3 for object type DataFrame",
     "output_type": "error",
     "traceback": [
      "\u001b[1;31m---------------------------------------------------------------------------\u001b[0m",
      "\u001b[1;31mKeyError\u001b[0m                                  Traceback (most recent call last)",
      "\u001b[1;32mc:\\Users\\kaben\\Documents\\GitHub\\irrealis\\openai-evals\\venv\\Lib\\site-packages\\pandas\\core\\generic.py\u001b[0m in \u001b[0;36m?\u001b[1;34m(cls, axis)\u001b[0m\n\u001b[0;32m    554\u001b[0m             \u001b[1;32mreturn\u001b[0m \u001b[0mcls\u001b[0m\u001b[1;33m.\u001b[0m\u001b[0m_AXIS_TO_AXIS_NUMBER\u001b[0m\u001b[1;33m[\u001b[0m\u001b[0maxis\u001b[0m\u001b[1;33m]\u001b[0m\u001b[1;33m\u001b[0m\u001b[1;33m\u001b[0m\u001b[0m\n\u001b[0;32m    555\u001b[0m         \u001b[1;32mexcept\u001b[0m \u001b[0mKeyError\u001b[0m\u001b[1;33m:\u001b[0m\u001b[1;33m\u001b[0m\u001b[1;33m\u001b[0m\u001b[0m\n\u001b[1;32m--> 556\u001b[1;33m             \u001b[1;32mraise\u001b[0m \u001b[0mValueError\u001b[0m\u001b[1;33m(\u001b[0m\u001b[1;34mf\"No axis named {axis} for object type {cls.__name__}\"\u001b[0m\u001b[1;33m)\u001b[0m\u001b[1;33m\u001b[0m\u001b[1;33m\u001b[0m\u001b[0m\n\u001b[0m",
      "\u001b[1;31mKeyError\u001b[0m: 3",
      "\nDuring handling of the above exception, another exception occurred:\n",
      "\u001b[1;31mValueError\u001b[0m                                Traceback (most recent call last)",
      "\u001b[1;32m~\\AppData\\Local\\Temp\\ipykernel_8724\\3388732126.py\u001b[0m in \u001b[0;36m?\u001b[1;34m()\u001b[0m\n\u001b[1;32m----> 1\u001b[1;33m \u001b[0mprint\u001b[0m\u001b[1;33m(\u001b[0m\u001b[0mevents_df\u001b[0m\u001b[1;33m.\u001b[0m\u001b[0mloc\u001b[0m\u001b[1;33m(\u001b[0m\u001b[1;36m3\u001b[0m\u001b[1;33m)\u001b[0m\u001b[1;33m[\u001b[0m\u001b[1;34m'data'\u001b[0m\u001b[1;33m]\u001b[0m\u001b[1;33m[\u001b[0m\u001b[1;34m'prompt'\u001b[0m\u001b[1;33m]\u001b[0m\u001b[1;33m[\u001b[0m\u001b[1;34m'content'\u001b[0m\u001b[1;33m]\u001b[0m\u001b[1;33m)\u001b[0m\u001b[1;33m\u001b[0m\u001b[1;33m\u001b[0m\u001b[0m\n\u001b[0m",
      "\u001b[1;32mc:\\Users\\kaben\\Documents\\GitHub\\irrealis\\openai-evals\\venv\\Lib\\site-packages\\pandas\\core\\indexing.py\u001b[0m in \u001b[0;36m?\u001b[1;34m(self, axis)\u001b[0m\n\u001b[0;32m    664\u001b[0m         \u001b[1;31m# we need to return a copy of ourselves\u001b[0m\u001b[1;33m\u001b[0m\u001b[1;33m\u001b[0m\u001b[0m\n\u001b[0;32m    665\u001b[0m         \u001b[0mnew_self\u001b[0m \u001b[1;33m=\u001b[0m \u001b[0mtype\u001b[0m\u001b[1;33m(\u001b[0m\u001b[0mself\u001b[0m\u001b[1;33m)\u001b[0m\u001b[1;33m(\u001b[0m\u001b[0mself\u001b[0m\u001b[1;33m.\u001b[0m\u001b[0mname\u001b[0m\u001b[1;33m,\u001b[0m \u001b[0mself\u001b[0m\u001b[1;33m.\u001b[0m\u001b[0mobj\u001b[0m\u001b[1;33m)\u001b[0m\u001b[1;33m\u001b[0m\u001b[1;33m\u001b[0m\u001b[0m\n\u001b[0;32m    666\u001b[0m \u001b[1;33m\u001b[0m\u001b[0m\n\u001b[0;32m    667\u001b[0m         \u001b[1;32mif\u001b[0m \u001b[0maxis\u001b[0m \u001b[1;32mis\u001b[0m \u001b[1;32mnot\u001b[0m \u001b[1;32mNone\u001b[0m\u001b[1;33m:\u001b[0m\u001b[1;33m\u001b[0m\u001b[1;33m\u001b[0m\u001b[0m\n\u001b[1;32m--> 668\u001b[1;33m             \u001b[0maxis\u001b[0m \u001b[1;33m=\u001b[0m \u001b[0mself\u001b[0m\u001b[1;33m.\u001b[0m\u001b[0mobj\u001b[0m\u001b[1;33m.\u001b[0m\u001b[0m_get_axis_number\u001b[0m\u001b[1;33m(\u001b[0m\u001b[0maxis\u001b[0m\u001b[1;33m)\u001b[0m\u001b[1;33m\u001b[0m\u001b[1;33m\u001b[0m\u001b[0m\n\u001b[0m\u001b[0;32m    669\u001b[0m         \u001b[0mnew_self\u001b[0m\u001b[1;33m.\u001b[0m\u001b[0maxis\u001b[0m \u001b[1;33m=\u001b[0m \u001b[0maxis\u001b[0m\u001b[1;33m\u001b[0m\u001b[1;33m\u001b[0m\u001b[0m\n\u001b[0;32m    670\u001b[0m         \u001b[1;32mreturn\u001b[0m \u001b[0mnew_self\u001b[0m\u001b[1;33m\u001b[0m\u001b[1;33m\u001b[0m\u001b[0m\n",
      "\u001b[1;32mc:\\Users\\kaben\\Documents\\GitHub\\irrealis\\openai-evals\\venv\\Lib\\site-packages\\pandas\\core\\generic.py\u001b[0m in \u001b[0;36m?\u001b[1;34m(cls, axis)\u001b[0m\n\u001b[0;32m    552\u001b[0m     \u001b[1;32mdef\u001b[0m \u001b[0m_get_axis_number\u001b[0m\u001b[1;33m(\u001b[0m\u001b[0mcls\u001b[0m\u001b[1;33m,\u001b[0m \u001b[0maxis\u001b[0m\u001b[1;33m:\u001b[0m \u001b[0mAxis\u001b[0m\u001b[1;33m)\u001b[0m \u001b[1;33m->\u001b[0m \u001b[0mint\u001b[0m\u001b[1;33m:\u001b[0m\u001b[1;33m\u001b[0m\u001b[1;33m\u001b[0m\u001b[0m\n\u001b[0;32m    553\u001b[0m         \u001b[1;32mtry\u001b[0m\u001b[1;33m:\u001b[0m\u001b[1;33m\u001b[0m\u001b[1;33m\u001b[0m\u001b[0m\n\u001b[0;32m    554\u001b[0m             \u001b[1;32mreturn\u001b[0m \u001b[0mcls\u001b[0m\u001b[1;33m.\u001b[0m\u001b[0m_AXIS_TO_AXIS_NUMBER\u001b[0m\u001b[1;33m[\u001b[0m\u001b[0maxis\u001b[0m\u001b[1;33m]\u001b[0m\u001b[1;33m\u001b[0m\u001b[1;33m\u001b[0m\u001b[0m\n\u001b[0;32m    555\u001b[0m         \u001b[1;32mexcept\u001b[0m \u001b[0mKeyError\u001b[0m\u001b[1;33m:\u001b[0m\u001b[1;33m\u001b[0m\u001b[1;33m\u001b[0m\u001b[0m\n\u001b[1;32m--> 556\u001b[1;33m             \u001b[1;32mraise\u001b[0m \u001b[0mValueError\u001b[0m\u001b[1;33m(\u001b[0m\u001b[1;34mf\"No axis named {axis} for object type {cls.__name__}\"\u001b[0m\u001b[1;33m)\u001b[0m\u001b[1;33m\u001b[0m\u001b[1;33m\u001b[0m\u001b[0m\n\u001b[0m",
      "\u001b[1;31mValueError\u001b[0m: No axis named 3 for object type DataFrame"
     ]
    }
   ],
   "source": [
    "print(events_df.loc(3)['data']['prompt']['content'])\n"
   ]
  },
  {
   "cell_type": "code",
   "execution_count": 77,
   "metadata": {},
   "outputs": [
    {
     "name": "stdout",
     "output_type": "stream",
     "text": [
      "{'run_id': '230521070112BCUEO4NZ', 'event_id': 0, 'sample_id': 'calculus.dev.0', 'type': 'sampling', 'data': {'prompt': [{'role': 'system', 'content': 'Evaluate the following integral:\\n$$\\n\\\\int e^{x} dx\\n$$'}], 'sampled': ['We know that the derivative of $e^x$ is itself, so we can use integration by substitution. Let $u = x$ and $du = dx$. Then we have:\\n$$\\n\\\\int e^{x} dx = \\\\int e^{u} du = e^u + C = e^x + C\\n$$\\nwhere $C$ is the constant of integration. Therefore, the solution to the integral is $\\\\boxed{e^x + C}$.']}, 'created_by': '', 'created_at': '2023-05-21 07:01:21.570168+00:00'}\n",
      "{'run_id': '230521070112BCUEO4NZ', 'event_id': 1, 'sample_id': 'calculus.dev.0', 'type': 'sampling', 'data': {'prompt': [{'role': 'user', 'content': 'You are comparing a submitted answer to an expert answer for a given mathematics problem:\\n***\\n[Mathematics Problem]: Evaluate the following integral:\\n$$\\n\\\\int e^{{x}} dx\\n$$\\n***\\n[Expert]: Because the derivative of $e^x$ is $e^x$, it follows that $\\\\int e^x dx$ is simply $e^x + C$.\\n***\\n[Submission]: We know that the derivative of $e^x$ is itself, so we can use integration by substitution. Let $u = x$ and $du = dx$. Then we have:\\n$$\\n\\\\int e^{x} dx = \\\\int e^{u} du = e^u + C = e^x + C\\n$$\\nwhere $C$ is the constant of integration. Therefore, the solution to the integral is $\\\\boxed{e^x + C}$.\\n***\\nIs the submitted answer equivalent to the expert answer? Take this step by step to make sure that your conclusion is correct. Avoid simply stating the correct answer at the outset. Then print only the single character \"Y\" or \"N\" (without quotes or punctuation) on its own line corresponding to the correct answer. At the end, repeat just the letter again by itself on a new line.\\n\\nReasoning:\\n\\nFirst, write out in a step by step manner your reasoning to be sure that your conclusion is correct. Avoid simply stating the correct answer at the outset. Then print only a single choice from \"Y\" or \"N\" (without quotes or punctuation) on its own line corresponding to the correct answer. At the end, repeat just the answer by itself on a new line.\\n\\nReasoning:'}], 'sampled': ['The submitted answer and the expert answer both arrive at the same solution of $e^x + C$. The submitted answer uses integration by substitution to arrive at the antiderivative, while the expert answer uses the fact that the derivative of $e^x$ is itself. However, both methods are valid and lead to the same result. Therefore, the submitted answer is equivalent to the expert answer. \\n\\nY']}, 'created_by': '', 'created_at': '2023-05-21 07:01:29.354595+00:00'}\n",
      "{'run_id': '230521070112BCUEO4NZ', 'event_id': 2, 'sample_id': 'calculus.dev.0', 'type': 'metrics', 'data': {'choice': 'Y', 'score': 1.0}, 'created_by': '', 'created_at': '2023-05-21 07:01:29.354595+00:00'}\n"
     ]
    }
   ],
   "source": [
    "print({\"run_id\": \"230521070112BCUEO4NZ\", \"event_id\": 0, \"sample_id\": \"calculus.dev.0\", \"type\": \"sampling\", \"data\": {\"prompt\": [{\"role\": \"system\", \"content\": \"Evaluate the following integral:\\n$$\\n\\\\int e^{x} dx\\n$$\"}], \"sampled\": [\"We know that the derivative of $e^x$ is itself, so we can use integration by substitution. Let $u = x$ and $du = dx$. Then we have:\\n$$\\n\\\\int e^{x} dx = \\\\int e^{u} du = e^u + C = e^x + C\\n$$\\nwhere $C$ is the constant of integration. Therefore, the solution to the integral is $\\\\boxed{e^x + C}$.\"]}, \"created_by\": \"\", \"created_at\": \"2023-05-21 07:01:21.570168+00:00\"})\n",
    "print({\"run_id\": \"230521070112BCUEO4NZ\", \"event_id\": 1, \"sample_id\": \"calculus.dev.0\", \"type\": \"sampling\", \"data\": {\"prompt\": [{\"role\": \"user\", \"content\": \"You are comparing a submitted answer to an expert answer for a given mathematics problem:\\n***\\n[Mathematics Problem]: Evaluate the following integral:\\n$$\\n\\\\int e^{{x}} dx\\n$$\\n***\\n[Expert]: Because the derivative of $e^x$ is $e^x$, it follows that $\\\\int e^x dx$ is simply $e^x + C$.\\n***\\n[Submission]: We know that the derivative of $e^x$ is itself, so we can use integration by substitution. Let $u = x$ and $du = dx$. Then we have:\\n$$\\n\\\\int e^{x} dx = \\\\int e^{u} du = e^u + C = e^x + C\\n$$\\nwhere $C$ is the constant of integration. Therefore, the solution to the integral is $\\\\boxed{e^x + C}$.\\n***\\nIs the submitted answer equivalent to the expert answer? Take this step by step to make sure that your conclusion is correct. Avoid simply stating the correct answer at the outset. Then print only the single character \\\"Y\\\" or \\\"N\\\" (without quotes or punctuation) on its own line corresponding to the correct answer. At the end, repeat just the letter again by itself on a new line.\\n\\nReasoning:\\n\\nFirst, write out in a step by step manner your reasoning to be sure that your conclusion is correct. Avoid simply stating the correct answer at the outset. Then print only a single choice from \\\"Y\\\" or \\\"N\\\" (without quotes or punctuation) on its own line corresponding to the correct answer. At the end, repeat just the answer by itself on a new line.\\n\\nReasoning:\"}], \"sampled\": [\"The submitted answer and the expert answer both arrive at the same solution of $e^x + C$. The submitted answer uses integration by substitution to arrive at the antiderivative, while the expert answer uses the fact that the derivative of $e^x$ is itself. However, both methods are valid and lead to the same result. Therefore, the submitted answer is equivalent to the expert answer. \\n\\nY\"]}, \"created_by\": \"\", \"created_at\": \"2023-05-21 07:01:29.354595+00:00\"})\n",
    "print({\"run_id\": \"230521070112BCUEO4NZ\", \"event_id\": 2, \"sample_id\": \"calculus.dev.0\", \"type\": \"metrics\", \"data\": {\"choice\": \"Y\", \"score\": 1.0}, \"created_by\": \"\", \"created_at\": \"2023-05-21 07:01:29.354595+00:00\"})"
   ]
  },
  {
   "cell_type": "code",
   "execution_count": 53,
   "metadata": {},
   "outputs": [],
   "source": [
    "import json"
   ]
  },
  {
   "cell_type": "code",
   "execution_count": 80,
   "metadata": {},
   "outputs": [
    {
     "name": "stdout",
     "output_type": "stream",
     "text": [
      "{\"100\": 1.0, \"99\": 0.99, \"98\": 0.98, \"97\": 0.97, \"96\": 0.96, \"95\": 0.95, \"94\": 0.94, \"93\": 0.93, \"92\": 0.92, \"91\": 0.91, \"90\": 0.9, \"89\": 0.89, \"88\": 0.88, \"87\": 0.87, \"86\": 0.86, \"85\": 0.85, \"84\": 0.84, \"83\": 0.83, \"82\": 0.82, \"81\": 0.81, \"80\": 0.8, \"79\": 0.79, \"78\": 0.78, \"77\": 0.77, \"76\": 0.76, \"75\": 0.75, \"74\": 0.74, \"73\": 0.73, \"72\": 0.72, \"71\": 0.71, \"70\": 0.7, \"69\": 0.69, \"68\": 0.68, \"67\": 0.67, \"66\": 0.66, \"65\": 0.65, \"64\": 0.64, \"63\": 0.63, \"62\": 0.62, \"61\": 0.61, \"60\": 0.6, \"59\": 0.59, \"58\": 0.58, \"57\": 0.57, \"56\": 0.56, \"55\": 0.55, \"54\": 0.54, \"53\": 0.53, \"52\": 0.52, \"51\": 0.51, \"50\": 0.5, \"49\": 0.49, \"48\": 0.48, \"47\": 0.47, \"46\": 0.46, \"45\": 0.45, \"44\": 0.44, \"43\": 0.43, \"42\": 0.42, \"41\": 0.41, \"40\": 0.4, \"39\": 0.39, \"38\": 0.38, \"37\": 0.37, \"36\": 0.36, \"35\": 0.35, \"34\": 0.34, \"33\": 0.33, \"32\": 0.32, \"31\": 0.31, \"30\": 0.3, \"29\": 0.29, \"28\": 0.28, \"27\": 0.27, \"26\": 0.26, \"25\": 0.25, \"24\": 0.24, \"23\": 0.23, \"22\": 0.22, \"21\": 0.21, \"20\": 0.2, \"19\": 0.19, \"18\": 0.18, \"17\": 0.17, \"16\": 0.16, \"15\": 0.15, \"14\": 0.14, \"13\": 0.13, \"12\": 0.12, \"11\": 0.11, \"10\": 0.1, \"9\": 0.09, \"8\": 0.08, \"7\": 0.07, \"6\": 0.06, \"5\": 0.05, \"4\": 0.04, \"3\": 0.03, \"2\": 0.02, \"1\": 0.01, \"0\": 0.0}\n"
     ]
    }
   ],
   "source": [
    "print(json.dumps({f'{i}': i/100 for i in range(100, -1, -1)}))"
   ]
  },
  {
   "cell_type": "code",
   "execution_count": 81,
   "metadata": {},
   "outputs": [
    {
     "name": "stdout",
     "output_type": "stream",
     "text": [
      "[\"100\", \"99\", \"98\", \"97\", \"96\", \"95\", \"94\", \"93\", \"92\", \"91\", \"90\", \"89\", \"88\", \"87\", \"86\", \"85\", \"84\", \"83\", \"82\", \"81\", \"80\", \"79\", \"78\", \"77\", \"76\", \"75\", \"74\", \"73\", \"72\", \"71\", \"70\", \"69\", \"68\", \"67\", \"66\", \"65\", \"64\", \"63\", \"62\", \"61\", \"60\", \"59\", \"58\", \"57\", \"56\", \"55\", \"54\", \"53\", \"52\", \"51\", \"50\", \"49\", \"48\", \"47\", \"46\", \"45\", \"44\", \"43\", \"42\", \"41\", \"40\", \"39\", \"38\", \"37\", \"36\", \"35\", \"34\", \"33\", \"32\", \"31\", \"30\", \"29\", \"28\", \"27\", \"26\", \"25\", \"24\", \"23\", \"22\", \"21\", \"20\", \"19\", \"18\", \"17\", \"16\", \"15\", \"14\", \"13\", \"12\", \"11\", \"10\", \"9\", \"8\", \"7\", \"6\", \"5\", \"4\", \"3\", \"2\", \"1\", \"0\"]\n"
     ]
    }
   ],
   "source": [
    "print(json.dumps([f'{i}' for i in range(100, -1, -1)]))"
   ]
  },
  {
   "cell_type": "code",
   "execution_count": null,
   "metadata": {},
   "outputs": [],
   "source": []
  }
 ],
 "metadata": {
  "kernelspec": {
   "display_name": "Python 3 (ipykernel)",
   "language": "python",
   "name": "python3"
  },
  "language_info": {
   "codemirror_mode": {
    "name": "ipython",
    "version": 3
   },
   "file_extension": ".py",
   "mimetype": "text/x-python",
   "name": "python",
   "nbconvert_exporter": "python",
   "pygments_lexer": "ipython3",
   "version": "3.10.6"
  }
 },
 "nbformat": 4,
 "nbformat_minor": 4
}
