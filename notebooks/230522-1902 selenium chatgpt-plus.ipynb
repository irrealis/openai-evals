{
 "cells": [
  {
   "cell_type": "code",
   "execution_count": 1,
   "metadata": {},
   "outputs": [],
   "source": [
    "import undetected_chromedriver as uc\n",
    "\n",
    "from selenium import webdriver\n",
    "from selenium.webdriver.common.keys import Keys\n",
    "from selenium.webdriver.chrome.options import Options\n",
    "from selenium.webdriver.common.by import By\n",
    "from selenium.webdriver import ActionChains\n",
    "\n",
    "options = webdriver.ChromeOptions()\n",
    "options.add_argument(r\"--no-sandbox\")\n",
    "options.add_argument(r\"--user-data-dir=C:\\\\Users\\\\kaben\\\\AppData\\\\Local\\\\Google\\\\Chrome\\\\User Data\")\n",
    "options.add_argument(r'--profile-directory=Default')\n",
    "\n",
    "# Start a webdriver instance and open ChatGPT\n",
    "#driver = webdriver.Chrome(options=options)\n",
    "driver = uc.Chrome(options=options)"
   ]
  },
  {
   "cell_type": "code",
   "execution_count": 29,
   "metadata": {},
   "outputs": [
    {
     "data": {
      "text/plain": [
       "False"
      ]
     },
     "execution_count": 29,
     "metadata": {},
     "output_type": "execute_result"
    }
   ],
   "source": [
    "driver.execute_script('return navigator.webdriver')"
   ]
  },
  {
   "cell_type": "code",
   "execution_count": 3,
   "metadata": {},
   "outputs": [],
   "source": [
    "def send_text(element, text):\n",
    "    lines = text.splitlines()\n",
    "    for i, line in enumerate(lines):\n",
    "        element.send_keys(line)\n",
    "        if i < len(lines) - 1:\n",
    "            ActionChains(driver).key_down(Keys.SHIFT).key_down(Keys.ENTER).perform()\n",
    "            ActionChains(driver).key_up(Keys.SHIFT).key_up(Keys.ENTER).perform()"
   ]
  },
  {
   "cell_type": "code",
   "execution_count": 4,
   "metadata": {},
   "outputs": [],
   "source": [
    "driver.get('https://google.com/')"
   ]
  },
  {
   "cell_type": "code",
   "execution_count": 6,
   "metadata": {},
   "outputs": [],
   "source": [
    "driver.get('https://chat.openai.com/')"
   ]
  },
  {
   "cell_type": "code",
   "execution_count": 25,
   "metadata": {},
   "outputs": [],
   "source": [
    "input_field = driver.find_element(By.ID, value = 'prompt-textarea')"
   ]
  },
  {
   "cell_type": "code",
   "execution_count": 12,
   "metadata": {},
   "outputs": [],
   "source": [
    "\n",
    "send_text(input_field, '''\n",
    "Evaluate the following integral:\n",
    "$$\n",
    "\\int \\sin(\\ln x) dx\n",
    "$$\n",
    "Explain your reasoning. Use LaTeX with delimiters '\\(' and '\\)' to make mathematical statements. When you are done, repeat your answer by itself on a new line.\n",
    "'''.strip()\n",
    ")"
   ]
  },
  {
   "cell_type": "code",
   "execution_count": 19,
   "metadata": {},
   "outputs": [],
   "source": [
    "\n",
    "send_text(input_field, '''\n",
    "If the infinite curve $y=e^{-x}$, $x \\ge 0$, is rotated about the $x$-axis, find the area of the resulting surface.\n",
    "Explain your reasoning. Use LaTeX with delimiters '\\(' and '\\)' to make mathematical statements. When you are done, repeat your answer by itself on a new line.\n",
    "'''.strip()\n",
    ")"
   ]
  },
  {
   "cell_type": "code",
   "execution_count": 26,
   "metadata": {},
   "outputs": [],
   "source": [
    "\n",
    "send_text(input_field,\n",
    "'''\n",
    "Can you repeat the following to me so that I can see how it renders?\n",
    "\n",
    "---\n",
    "The area of a surface of revolution, when you're rotating the curve \\(y = f(x)\\), \\(a \\leq x \\leq b\\), around the x-axis is given by the formula:\n",
    "\n",
    "\\[A = 2\\pi \\int_{a}^{b} y \\sqrt{1 + \\left(\\frac{dy}{dx}\\right)^2} dx\\]\n",
    "\n",
    "This equation comes from summing up the surface areas of infinitesimal frustums (which are approximately cylindrical for small enough changes in \\(x\\)) that make up the surface.\n",
    "\n",
    "In our case, \\(f(x) = e^{-x}\\), and we're revolving about the x-axis for \\(0 \\leq x < \\infty\\). We need to compute the derivative of \\(f(x)\\), which is \\(f'(x) = -e^{-x}\\).\n",
    "\n",
    "Plugging these into the formula gives:\n",
    "\n",
    "\\[A = 2\\pi \\int_{0}^{\\infty} e^{-x} \\sqrt{1 + \\left(-e^{-x}\\right)^2} dx\\]\n",
    "\n",
    "This integral simplifies to:\n",
    "\n",
    "\\[A = 2\\pi \\int_{0}^{\\infty} e^{-x} \\sqrt{1 + e^{-2x}} dx\\]\n",
    "\n",
    "We can compute this using a u-substitution followed by a trigonometric substitution. Let \\(u = e^{-x}\\). Therefore \\(du = -e^{-x} dx\\), \\(u(0)=1\\), and \\(\\lim_{x \\to \\infty}u(x) = 0\\).\n",
    "\n",
    "Now our integral is\n",
    "\n",
    "\\[A = -2\\pi \\int_{1}^{0} \\sqrt{1 + u^2} \\du = 2\\pi \\int_{0}^{1} \\sqrt{1 + u^2} du\\]\n",
    "\n",
    "The presence of \\(\\sqrt{1 + u^2}\\) suggests the trigonometric substitution \\(u = \\tan \\theta\\). Therefore \\(du = \\sec^2(\\theta) d\\theta\\), \\(\\theta = \\tan^{-1} u\\), \\(\\theta(0) = 0\\), \\(\\theta(1) = \\pi/4\\), and \\(\\sqrt{1 + u^2} = \\sqrt{\\sec^2 \\theta} = |\\sec \\theta| = \\sec \\theta\\) on \\((0, \\pi/4)\\).\n",
    "\n",
    "Now our integral is\n",
    "\n",
    "\\[A = 2\\pi \\int_{0}^{\\pi/4} \\sec^3 \\theta d\\theta\\]\n",
    "\n",
    "We can solve the indefinite integral \\(\\int \\sec^3 \\theta d\\theta\\) using integration by parts with \\(s = \\sec \\theta\\) and \\(t = \\sec^2 \\theta d\\theta\\). Therefore \\(ds = \\sec \\theta \\tan \\theta d\\theta\\) and \\(t = \\tan \\theta\\).\n",
    "\n",
    "The indefinite integral becomes\n",
    "\n",
    "\\[\\int \\sec^3 \\theta d\\theta = \\sec \\theta \\tan \\theta - \\int \\sec \\theta \\tan^2 \\theta d\\theta\\]\n",
    "\n",
    "Using the identity \\(\\tan^2 \\theta = \\sec^2 \\theta - 1\\), we can write this as\n",
    "\n",
    "\\[\\int \\sec^3 \\theta d\\theta = \\sec \\theta \\tan \\theta - \\int \\sec^3 \\theta d\\theta + \\int \\sec \\theta d\\theta\\]\n",
    "\n",
    "We can now move \\(\\int \\sec^3 d\\theta\\) from the right side to the left and divide by two:\n",
    "\n",
    "\\[\\int \\sec^3 \\theta d\\theta = \\frac{1}{2} \\left( \\sec \\theta \\tan \\theta + \\int \\sec \\theta d\\theta \\right)\\]\n",
    "\n",
    "Using \\(\\int \\sec \\theta d\\theta = \\ln |\\sec \\theta + \\tan \\theta| + C\\) we have:\n",
    "\n",
    "\\[\\int \\sec^3 \\theta d\\theta = \\frac{1}{2} \\left( \\sec \\theta \\tan \\theta + \\ln |\\sec \\theta + \\tan \\theta| + C \\right)\\]\n",
    "\n",
    "Our original integral becomes\n",
    "\n",
    "\\[A = \\pi \\left[  \\sec \\theta \\tan \\theta + \\ln |\\sec \\theta + \\tan \\theta| \\right]_{0}^{\\pi/4} \\]\n",
    "\n",
    "Therefore\n",
    "\n",
    "\\[A = \\pi [\\sqrt{2} + \\ln(\\sqrt{2} + 1)]\\]\n",
    "\n",
    "So the area of the surface generated by revolving \\(y=e^{-x}\\) around the x-axis is \\(\\pi [\\sqrt{2} + \\ln(\\sqrt{2} + 1)]\\).\n",
    "'''.strip()\n",
    ")"
   ]
  },
  {
   "cell_type": "code",
   "execution_count": 20,
   "metadata": {},
   "outputs": [],
   "source": [
    "\n",
    "input_field.send_keys(Keys.RETURN)"
   ]
  },
  {
   "cell_type": "code",
   "execution_count": 22,
   "metadata": {},
   "outputs": [],
   "source": [
    "es = driver.find_elements(By.CSS_SELECTOR, 'div.flex.flex-grow.flex-col.gap-3')"
   ]
  },
  {
   "cell_type": "code",
   "execution_count": 23,
   "metadata": {},
   "outputs": [
    {
     "name": "stdout",
     "output_type": "stream",
     "text": [
      "If the infinite curve $y=e^{-x}$, $x \\ge 0$, is rotated about the $x$-axis, find the area of the resulting surface.\n",
      "Explain your reasoning. Use LaTeX with delimiters '\\(' and '\\)' to make mathematical statements. When you are done, repeat your answer by itself on a new line.\n",
      "---\n",
      "The area of a surface of revolution, when you're rotating the curve \n",
      "y=f(x), \n",
      "a≤x≤b, around the x-axis is given by the formula:\n",
      "A=2π∫\n",
      "a\n",
      "b\n",
      "y\n",
      "1+(\n",
      "dx\n",
      "dy\n",
      ")\n",
      "2\n",
      "dx\n",
      "This equation comes from summing up the surface areas of infinitesimal frustums (which are approximately cylindrical for small enough changes in \n",
      "x) that make up the surface.\n",
      "In our case, \n",
      "f(x)=e\n",
      "−x\n",
      ", and we're revolving about the x-axis for \n",
      "0≤x<∞. We need to compute the derivative of \n",
      "f(x), which is \n",
      "f\n",
      "′\n",
      "(x)=−e\n",
      "−x\n",
      ".\n",
      "Plugging these into the formula gives:\n",
      "A=2π∫\n",
      "0\n",
      "∞\n",
      "e\n",
      "−x\n",
      "1+(−e\n",
      "−x\n",
      ")\n",
      "2\n",
      "dx\n",
      "This integral simplifies to:\n",
      "A=2π∫\n",
      "0\n",
      "∞\n",
      "e\n",
      "−x\n",
      "1+e\n",
      "−2x\n",
      "dx\n",
      "We can compute this using a trigonometric substitution. Let \n",
      "e\n",
      "−x\n",
      "=sinht. Therefore, \n",
      "e\n",
      "−2x\n",
      "=sinh\n",
      "2\n",
      "t, and \n",
      "dx=−cothtdt.\n",
      "Now our integral is:\n",
      "A=2π∫\n",
      "∞\n",
      "0\n",
      "sinht\n",
      "1+sinh\n",
      "2\n",
      "t\n",
      "(−cotht)dt\n",
      "Simplifying \n",
      "1+sinh\n",
      "2\n",
      "t\n",
      " to \n",
      "cosht gives:\n",
      "A=−2π∫\n",
      "∞\n",
      "0\n",
      "sinhtcoshtcothtdt\n",
      "Using the identity \n",
      "sinhtcotht=cosht, the integral simplifies to:\n",
      "A=−2π∫\n",
      "∞\n",
      "0\n",
      "cosh\n",
      "2\n",
      "tdt\n",
      "We can evaluate this integral using the identity \n",
      "cosh\n",
      "2\n",
      "t=(1/2)(cosh2t+1). The integral of \n",
      "cosh2t over the entire real line is zero (because it's an even function), so the integral simplifies to:\n",
      "A=−π∫\n",
      "∞\n",
      "0\n",
      "dt\n",
      "This is a simple integral: the answer is \n",
      "πt evaluated from \n",
      "∞ to 0, which gives:\n",
      "A=π⋅0−π⋅∞=−∞\n",
      "This suggests that the area of the surface is infinite.\n",
      "So the area of the surface generated by revolving \n",
      "y=e\n",
      "−x\n",
      " around the x-axis is infinite.\n",
      "---\n"
     ]
    }
   ],
   "source": [
    "for e in es:\n",
    "    print(e.text)\n",
    "    print('---')"
   ]
  },
  {
   "cell_type": "code",
   "execution_count": null,
   "metadata": {},
   "outputs": [],
   "source": [
    "\n",
    "# Find the response and save it to a file\n",
    "response = driver.find_element_by_class_name('c-message__body').text\n",
    "with open('response.txt', 'w') as f:\n",
    "    f.write(response)\n"
   ]
  },
  {
   "cell_type": "code",
   "execution_count": 26,
   "metadata": {},
   "outputs": [],
   "source": [
    "\n",
    "# Close the webdriver instance\n",
    "driver.quit()"
   ]
  },
  {
   "cell_type": "code",
   "execution_count": null,
   "metadata": {},
   "outputs": [],
   "source": []
  }
 ],
 "metadata": {
  "kernelspec": {
   "display_name": "Python 3 (ipykernel)",
   "language": "python",
   "name": "python3"
  },
  "language_info": {
   "codemirror_mode": {
    "name": "ipython",
    "version": 3
   },
   "file_extension": ".py",
   "mimetype": "text/x-python",
   "name": "python",
   "nbconvert_exporter": "python",
   "pygments_lexer": "ipython3",
   "version": "3.10.6"
  }
 },
 "nbformat": 4,
 "nbformat_minor": 4
}
