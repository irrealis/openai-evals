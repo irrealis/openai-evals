{
 "cells": [
  {
   "cell_type": "code",
   "execution_count": 6,
   "metadata": {},
   "outputs": [],
   "source": [
    "from selenium import webdriver\n",
    "from selenium.webdriver.common.keys import Keys\n",
    "from selenium.webdriver.chrome.options import Options\n",
    "from selenium.webdriver.common.by import By\n",
    "from selenium.webdriver import ActionChains\n",
    "\n",
    "options = webdriver.ChromeOptions()\n",
    "options.add_argument(r\"--no-sandbox\")\n",
    "options.add_argument(r\"--user-data-dir=C:\\Users\\kaben\\AppData\\Local\\Google\\Chrome\\User Data\")\n",
    "options.add_argument(r'--profile-directory=Default')\n",
    "\n",
    "# Start a webdriver instance and open ChatGPT\n",
    "driver = webdriver.Chrome(options=options)"
   ]
  },
  {
   "cell_type": "code",
   "execution_count": 13,
   "metadata": {},
   "outputs": [],
   "source": [
    "def send_text(element, text):\n",
    "    lines = text.splitlines()\n",
    "    for i, line in enumerate(lines):\n",
    "        element.send_keys(line)\n",
    "        if i < len(lines) - 1:\n",
    "            ActionChains(driver).key_down(Keys.SHIFT).key_down(Keys.ENTER).perform()\n",
    "            ActionChains(driver).key_up(Keys.SHIFT).key_up(Keys.ENTER).perform()"
   ]
  },
  {
   "cell_type": "code",
   "execution_count": 4,
   "metadata": {},
   "outputs": [],
   "source": [
    "driver.get('https://google.com/')"
   ]
  },
  {
   "cell_type": "code",
   "execution_count": 5,
   "metadata": {},
   "outputs": [],
   "source": [
    "driver.get('https://chat.openai.com/')"
   ]
  },
  {
   "cell_type": "code",
   "execution_count": 8,
   "metadata": {},
   "outputs": [],
   "source": [
    "input_field = driver.find_element(By.ID, value = 'prompt-textarea')"
   ]
  },
  {
   "cell_type": "code",
   "execution_count": 15,
   "metadata": {},
   "outputs": [],
   "source": [
    "\n",
    "send_text(input_field, '''What is the capital of France?\n",
    "\n",
    "(I'm testing automation software.)\n",
    "'''\n",
    ")\n",
    "input_field.send_keys(Keys.RETURN)"
   ]
  },
  {
   "cell_type": "code",
   "execution_count": 18,
   "metadata": {},
   "outputs": [],
   "source": [
    "es = driver.find_elements(By.CSS_SELECTOR, 'div.flex.flex-grow.flex-col.gap-3')"
   ]
  },
  {
   "cell_type": "code",
   "execution_count": 24,
   "metadata": {},
   "outputs": [
    {
     "name": "stdout",
     "output_type": "stream",
     "text": [
      "What is the capital of France?\n",
      "\n",
      "(I'm testing automation software.)\n",
      "---\n",
      "The capital of France is Paris.\n",
      "---\n"
     ]
    }
   ],
   "source": [
    "for e in es:\n",
    "    print(e.text)\n",
    "    print('---')"
   ]
  },
  {
   "cell_type": "code",
   "execution_count": null,
   "metadata": {},
   "outputs": [],
   "source": [
    "\n",
    "# Find the response and save it to a file\n",
    "response = driver.find_element_by_class_name('c-message__body').text\n",
    "with open('response.txt', 'w') as f:\n",
    "    f.write(response)\n",
    "\n",
    "# Close the webdriver instance\n",
    "driver.quit()"
   ]
  }
 ],
 "metadata": {
  "kernelspec": {
   "display_name": "venv",
   "language": "python",
   "name": "python3"
  },
  "language_info": {
   "codemirror_mode": {
    "name": "ipython",
    "version": 3
   },
   "file_extension": ".py",
   "mimetype": "text/x-python",
   "name": "python",
   "nbconvert_exporter": "python",
   "pygments_lexer": "ipython3",
   "version": "3.11.3"
  },
  "orig_nbformat": 4
 },
 "nbformat": 4,
 "nbformat_minor": 2
}
