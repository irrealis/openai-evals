{
 "cells": [
  {
   "cell_type": "code",
   "execution_count": 45,
   "metadata": {},
   "outputs": [],
   "source": [
    "import openai\n",
    "\n",
    "from ruamel.yaml import YAML\n",
    "from ruamel.yaml.scalarstring import LiteralScalarString\n",
    "\n",
    "import json\n",
    "import os\n",
    "import time"
   ]
  },
  {
   "cell_type": "code",
   "execution_count": 16,
   "metadata": {},
   "outputs": [],
   "source": [
    "openai.api_key = os.environ['OPENAI_API_KEY']\n",
    "\n",
    "yaml=YAML()\n",
    "yaml.default_flow_style = False\n",
    "\n",
    "#def str_presenter(dumper, data):\n",
    "#    \"\"\"configures yaml for dumping multiline strings\n",
    "#    Ref: https://stackoverflow.com/questions/8640959/how-can-i-control-what-scalar-form-pyyaml-uses-for-my-data\"\"\"\n",
    "#    if len(data.splitlines()) > 1:  # check for multiline string\n",
    "#        return dumper.represent_scalar('tag:yaml.org,2002:str', data, style='|')\n",
    "#    return dumper.represent_scalar('tag:yaml.org,2002:str', data)\n",
    "#\n",
    "#yaml.add_representer(str, str_presenter)\n",
    "#yaml.representer.SafeRepresenter.add_representer(str, str_presenter)"
   ]
  },
  {
   "cell_type": "code",
   "execution_count": 50,
   "metadata": {},
   "outputs": [],
   "source": [
    "\n",
    "with open('calc-problems.yaml', 'r') as f:\n",
    "    problems = yaml.load(f)"
   ]
  },
  {
   "cell_type": "code",
   "execution_count": 19,
   "metadata": {},
   "outputs": [
    {
     "data": {
      "text/plain": [
       "[{'input': '\\\\[\\n\\\\int x^n dx\\n\\\\]\\nwhere \\\\(n != -1\\\\).', 'ideal': '\\\\(\\\\int x^n dx = \\\\frac{x^{n+1}}{n+1} + C\\\\), for \\\\(n \\\\neq -1\\\\).'}, {'input': '\\\\[\\n\\\\int \\\\frac{1}{x} dx\\n\\\\]', 'ideal': '\\\\(\\\\int \\\\frac{1}{x} dx = \\\\ln|x| + C\\\\).'}, {'input': '\\\\[\\n\\\\int e^{x} dx\\n\\\\]', 'ideal': '\\\\(\\\\int e^x dx = e^x + C\\\\).'}, {'input': '\\\\[\\n\\\\int b^x dx\\n\\\\]', 'ideal': '\\\\(\\\\int b^x dx = \\\\frac{b^x}{\\\\ln b} + C\\\\).'}, {'input': '\\\\[\\n\\\\int \\\\sin x dx\\n\\\\]', 'ideal': '\\\\(\\\\int \\\\sin x dx = -\\\\cos x + C\\\\).'}, {'input': '\\\\[\\n\\\\int \\\\cos x dx\\n\\\\]', 'ideal': '\\\\(\\\\int \\\\cos x dx = \\\\sin x + C\\\\).'}, {'input': '\\\\[\\n\\\\int \\\\sec^2 x dx\\n\\\\]', 'ideal': '\\\\(\\\\int \\\\sec^2 x dx = \\\\tan x + C\\\\).'}, {'input': '\\\\[\\n\\\\int \\\\csc^2 x dx\\n\\\\]', 'ideal': '\\\\(\\\\int \\\\csc^2 x dx = -\\\\cot x + C\\\\).'}, {'input': '\\\\[\\n\\\\int \\\\sec x \\\\tan x dx\\n\\\\]', 'ideal': '\\\\(\\\\int \\\\sec x \\\\tan x dx = \\\\sec x + C\\\\).'}, {'input': '\\\\[\\n\\\\int \\\\csc x \\\\cot x dx\\n\\\\]', 'ideal': '\\\\(\\\\int \\\\csc x \\\\cot x dx = -\\\\csc x + C\\\\).'}, {'input': '\\\\[\\n\\\\int \\\\sec x dx\\n\\\\]', 'ideal': '\\\\(\\\\int \\\\sec x dx = \\\\ln |\\\\sec x + \\\\tan x| + C\\\\).'}, {'input': '\\\\[\\n\\\\int \\\\csc x dx\\n\\\\]', 'ideal': '\\\\(\\\\int \\\\csc x dx = \\\\ln |\\\\csc x-\\\\cot x| + C\\\\). Note that \\\\(-\\\\ln|\\\\csc x + \\\\cot x| + C\\\\) is also an antiderivative of \\\\(\\\\csc x dx\\\\), but \\\\(\\\\ln |\\\\csc x-\\\\cot x| + C\\\\) is the form more commonly found in textbooks and references.'}, {'input': '\\\\[\\n\\\\int \\\\tan x dx\\n\\\\]', 'ideal': '\\\\(\\\\int \\\\tan x dx = \\\\ln |\\\\sec x| + C\\\\).'}, {'input': '\\\\[\\n\\\\int \\\\cot x dx\\n\\\\]', 'ideal': '\\\\(\\\\int \\\\cot x dx = \\\\ln |\\\\sin x| + C\\\\).'}, {'input': '\\\\[\\n\\\\int \\\\sinh x dx\\n\\\\]', 'ideal': '\\\\(\\\\int \\\\sinh x dx = \\\\cosh x + C\\\\).'}, {'input': '\\\\[\\n\\\\int \\\\cosh x dx\\n\\\\]', 'ideal': '\\\\(\\\\int \\\\cosh x dx = \\\\sinh x + C\\\\).'}, {'input': '\\\\[\\n\\\\int \\\\frac{dx}{x^2+a^2}\\n\\\\]', 'ideal': '\\\\(\\\\int \\\\frac{dx}{x^2+a^2} = \\\\frac{1}{a} \\\\tan^{-1}\\\\left(\\\\frac{x}{a}\\\\right) + C\\\\).'}, {'input': '\\\\[\\n\\\\int \\\\frac{dx}{\\\\sqrt{a^2-x^2}}, \\\\quad a>0\\n\\\\]', 'ideal': '\\\\(\\\\int \\\\frac{dx}{\\\\sqrt{a^2-x^2}} = \\\\sin^{-1}\\\\left(\\\\frac{x}{a}\\\\right) + C\\\\).'}]"
      ]
     },
     "execution_count": 19,
     "metadata": {},
     "output_type": "execute_result"
    }
   ],
   "source": [
    "problems"
   ]
  },
  {
   "cell_type": "code",
   "execution_count": 20,
   "metadata": {},
   "outputs": [],
   "source": [
    "problem_fmt = '''\n",
    "Evaluate the following integral:\n",
    "{problem}\n",
    "Explain your reasoning. Use LaTeX with delimiters '\\(' and '\\)' to make mathematical statements. When you are done, repeat your answer by itself on a new line.\n",
    "'''"
   ]
  },
  {
   "cell_type": "code",
   "execution_count": 46,
   "metadata": {},
   "outputs": [
    {
     "name": "stdout",
     "output_type": "stream",
     "text": [
      "*** Prompt: \n",
      "Evaluate the following integral:\n",
      "\\[\n",
      "\\int \\frac{1}{x} dx\n",
      "\\]\n",
      "Explain your reasoning. Use LaTeX with delimiters '\\(' and '\\)' to make mathematical statements. When you are done, repeat your answer by itself on a new line.\n",
      "\n",
      "--- Response 1\n",
      "\n",
      "We have:\n",
      "\\[\n",
      "\\int \\frac{1}{x} dx = \\ln|x| + C\n",
      "\\]\n",
      "where \\(C\\) is the constant of integration. This is because we can write \\(\\frac{1}{x} = x^{-1}\\) and then use the power rule of integration, which says that\n",
      "\\[\n",
      "\\int x^n dx = \\frac{x^{n+1}}{n+1} + C\n",
      "\\]\n",
      "for any real number \\(n\\neq -1\\) (and where \\(C\\) is the constant of integration). Applying this rule with \\(n=-1\\) gives us the result above. \n",
      "\n",
      "\\[\\int \\frac{1}{x} dx = \\ln|x| + C\\]\n",
      "--- Response 2\n",
      "\n",
      "We have:\n",
      "\\begin{align*}\n",
      "\\int \\frac{1}{x} dx &= \\ln|x| + C \\quad (\\text{where } C \\text{ is the constant of integration}) \\\\\n",
      "&= \\begin{cases}\n",
      "\\ln(x) + C_1, & \\text{if } x > 0 \\\\\n",
      "\\ln(-x) + C_2, & \\text{if } x < 0 \\\\\n",
      "\\end{cases}\n",
      "\\end{align*}\n",
      "where $C_1$ and $C_2$ are constants of integration for the respective cases. \n",
      "\n",
      "Answer: \\(\\int \\frac{1}{x} dx = \\ln|x| + C\\)\n",
      "--- Response 3\n",
      "\n",
      "We can evaluate the integral by using the formula for integrating powers of x:\n",
      "\\[\n",
      "\\int x^n dx = \\frac{1}{n+1}x^{n+1} + C,\n",
      "\\]\n",
      "where C is an arbitrary constant. Using this formula with n = -1, we get:\n",
      "\\[\n",
      "\\int \\frac{1}{x} dx = \\ln|x| + C.\n",
      "\\]\n",
      "Therefore:\n",
      "\\[\n",
      "\\int \\frac{1}{x} dx = \\ln|x| + C.\n",
      "\\]\n",
      "--- Response 4\n",
      "\n",
      "We can evaluate the integral \\(\\int \\frac{1}{x} dx\\) using the rule of logarithms: \\[\\int \\frac{1}{x} dx = \\ln |x| + C\\] where \\(C\\) is the constant of integration. We need to include the absolute value because the function \\(\\frac{1}{x}\\) is undefined at \\(x=0\\) and can take on positive or negative values depending on the sign of \\(x\\).\n",
      "\n",
      "\\[\\int \\frac{1}{x} dx = \\ln |x| + C\\]\n",
      "--- Response 5\n",
      "\n",
      "We have\n",
      "\\begin{align*}\n",
      "\\int \\frac{1}{x} dx &= \\ln |x| + C \\quad \\text{(since }\\frac{d}{dx} (\\ln |x|) = \\frac{1}{x}\\text{)} \\\\\n",
      "&= \\begin{cases}\n",
      "\\ln x + C_1, & \\text{if } x>0 \\\\\n",
      "\\ln (-x) + C_2, & \\text{if } x<0\n",
      "\\end{cases} \\quad \\text{(using }\\ln |x| = \\begin{cases}\n",
      "\\ln x, & \\text{if } x>0 \\\\\n",
      "\\ln(-x), & \\text{if } x<0\n",
      "\\end{cases}\\text{)}\n",
      "\\end{align*}\n",
      "\n",
      "Therefore,\n",
      "\\[\n",
      "\\int \\frac{1}{x} dx = \\ln |x| + C = \\begin{cases}\n",
      "\\ln x + C_1, & \\text{if } x>0 \\\\\n",
      "\\ln (-x) + C_2, & \\text{if } x<0\n",
      "\\end{cases}\n",
      "\\]\n",
      "*** Prompt: \n",
      "Evaluate the following integral:\n",
      "\\[\n",
      "\\int e^{x} dx\n",
      "\\]\n",
      "Explain your reasoning. Use LaTeX with delimiters '\\(' and '\\)' to make mathematical statements. When you are done, repeat your answer by itself on a new line.\n",
      "\n"
     ]
    },
    {
     "ename": "KeyboardInterrupt",
     "evalue": "",
     "output_type": "error",
     "traceback": [
      "\u001b[1;31m---------------------------------------------------------------------------\u001b[0m",
      "\u001b[1;31mKeyboardInterrupt\u001b[0m                         Traceback (most recent call last)",
      "Cell \u001b[1;32mIn[46], line 4\u001b[0m\n\u001b[0;32m      2\u001b[0m prompt \u001b[39m=\u001b[39m problem_fmt\u001b[39m.\u001b[39mformat(problem \u001b[39m=\u001b[39m problem[\u001b[39m'\u001b[39m\u001b[39minput\u001b[39m\u001b[39m'\u001b[39m])\n\u001b[0;32m      3\u001b[0m \u001b[39mprint\u001b[39m(\u001b[39mf\u001b[39m\u001b[39m'\u001b[39m\u001b[39m*** Prompt: \u001b[39m\u001b[39m{\u001b[39;00mprompt\u001b[39m}\u001b[39;00m\u001b[39m'\u001b[39m)\n\u001b[1;32m----> 4\u001b[0m completion \u001b[39m=\u001b[39m openai\u001b[39m.\u001b[39;49mChatCompletion\u001b[39m.\u001b[39;49mcreate(\n\u001b[0;32m      5\u001b[0m   model\u001b[39m=\u001b[39;49m\u001b[39m\"\u001b[39;49m\u001b[39mgpt-3.5-turbo\u001b[39;49m\u001b[39m\"\u001b[39;49m,\n\u001b[0;32m      6\u001b[0m   messages\u001b[39m=\u001b[39;49m[\n\u001b[0;32m      7\u001b[0m     {\u001b[39m\"\u001b[39;49m\u001b[39mrole\u001b[39;49m\u001b[39m\"\u001b[39;49m: \u001b[39m\"\u001b[39;49m\u001b[39muser\u001b[39;49m\u001b[39m\"\u001b[39;49m, \u001b[39m\"\u001b[39;49m\u001b[39mcontent\u001b[39;49m\u001b[39m\"\u001b[39;49m: prompt}\n\u001b[0;32m      8\u001b[0m   ],\n\u001b[0;32m      9\u001b[0m   n \u001b[39m=\u001b[39;49m \u001b[39m5\u001b[39;49m,\n\u001b[0;32m     10\u001b[0m )\n\u001b[0;32m     11\u001b[0m responses \u001b[39m=\u001b[39m [LiteralScalarString(choice\u001b[39m.\u001b[39mmessage\u001b[39m.\u001b[39mcontent) \u001b[39mfor\u001b[39;00m choice \u001b[39min\u001b[39;00m completion\u001b[39m.\u001b[39mchoices]\n\u001b[0;32m     12\u001b[0m problems[i][\u001b[39m'\u001b[39m\u001b[39mresponses\u001b[39m\u001b[39m'\u001b[39m] \u001b[39m=\u001b[39m responses\n",
      "File \u001b[1;32mc:\\Users\\kaben\\Documents\\GitHub\\irrealis\\openai-evals\\venv\\Lib\\site-packages\\openai\\api_resources\\chat_completion.py:25\u001b[0m, in \u001b[0;36mChatCompletion.create\u001b[1;34m(cls, *args, **kwargs)\u001b[0m\n\u001b[0;32m     23\u001b[0m \u001b[39mwhile\u001b[39;00m \u001b[39mTrue\u001b[39;00m:\n\u001b[0;32m     24\u001b[0m     \u001b[39mtry\u001b[39;00m:\n\u001b[1;32m---> 25\u001b[0m         \u001b[39mreturn\u001b[39;00m \u001b[39msuper\u001b[39;49m()\u001b[39m.\u001b[39;49mcreate(\u001b[39m*\u001b[39;49margs, \u001b[39m*\u001b[39;49m\u001b[39m*\u001b[39;49mkwargs)\n\u001b[0;32m     26\u001b[0m     \u001b[39mexcept\u001b[39;00m TryAgain \u001b[39mas\u001b[39;00m e:\n\u001b[0;32m     27\u001b[0m         \u001b[39mif\u001b[39;00m timeout \u001b[39mis\u001b[39;00m \u001b[39mnot\u001b[39;00m \u001b[39mNone\u001b[39;00m \u001b[39mand\u001b[39;00m time\u001b[39m.\u001b[39mtime() \u001b[39m>\u001b[39m start \u001b[39m+\u001b[39m timeout:\n",
      "File \u001b[1;32mc:\\Users\\kaben\\Documents\\GitHub\\irrealis\\openai-evals\\venv\\Lib\\site-packages\\openai\\api_resources\\abstract\\engine_api_resource.py:153\u001b[0m, in \u001b[0;36mEngineAPIResource.create\u001b[1;34m(cls, api_key, api_base, api_type, request_id, api_version, organization, **params)\u001b[0m\n\u001b[0;32m    127\u001b[0m \u001b[39m@classmethod\u001b[39m\n\u001b[0;32m    128\u001b[0m \u001b[39mdef\u001b[39;00m \u001b[39mcreate\u001b[39m(\n\u001b[0;32m    129\u001b[0m     \u001b[39mcls\u001b[39m,\n\u001b[1;32m   (...)\u001b[0m\n\u001b[0;32m    136\u001b[0m     \u001b[39m*\u001b[39m\u001b[39m*\u001b[39mparams,\n\u001b[0;32m    137\u001b[0m ):\n\u001b[0;32m    138\u001b[0m     (\n\u001b[0;32m    139\u001b[0m         deployment_id,\n\u001b[0;32m    140\u001b[0m         engine,\n\u001b[1;32m   (...)\u001b[0m\n\u001b[0;32m    150\u001b[0m         api_key, api_base, api_type, api_version, organization, \u001b[39m*\u001b[39m\u001b[39m*\u001b[39mparams\n\u001b[0;32m    151\u001b[0m     )\n\u001b[1;32m--> 153\u001b[0m     response, _, api_key \u001b[39m=\u001b[39m requestor\u001b[39m.\u001b[39;49mrequest(\n\u001b[0;32m    154\u001b[0m         \u001b[39m\"\u001b[39;49m\u001b[39mpost\u001b[39;49m\u001b[39m\"\u001b[39;49m,\n\u001b[0;32m    155\u001b[0m         url,\n\u001b[0;32m    156\u001b[0m         params\u001b[39m=\u001b[39;49mparams,\n\u001b[0;32m    157\u001b[0m         headers\u001b[39m=\u001b[39;49mheaders,\n\u001b[0;32m    158\u001b[0m         stream\u001b[39m=\u001b[39;49mstream,\n\u001b[0;32m    159\u001b[0m         request_id\u001b[39m=\u001b[39;49mrequest_id,\n\u001b[0;32m    160\u001b[0m         request_timeout\u001b[39m=\u001b[39;49mrequest_timeout,\n\u001b[0;32m    161\u001b[0m     )\n\u001b[0;32m    163\u001b[0m     \u001b[39mif\u001b[39;00m stream:\n\u001b[0;32m    164\u001b[0m         \u001b[39m# must be an iterator\u001b[39;00m\n\u001b[0;32m    165\u001b[0m         \u001b[39massert\u001b[39;00m \u001b[39mnot\u001b[39;00m \u001b[39misinstance\u001b[39m(response, OpenAIResponse)\n",
      "File \u001b[1;32mc:\\Users\\kaben\\Documents\\GitHub\\irrealis\\openai-evals\\venv\\Lib\\site-packages\\openai\\api_requestor.py:220\u001b[0m, in \u001b[0;36mAPIRequestor.request\u001b[1;34m(self, method, url, params, headers, files, stream, request_id, request_timeout)\u001b[0m\n\u001b[0;32m    209\u001b[0m \u001b[39mdef\u001b[39;00m \u001b[39mrequest\u001b[39m(\n\u001b[0;32m    210\u001b[0m     \u001b[39mself\u001b[39m,\n\u001b[0;32m    211\u001b[0m     method,\n\u001b[1;32m   (...)\u001b[0m\n\u001b[0;32m    218\u001b[0m     request_timeout: Optional[Union[\u001b[39mfloat\u001b[39m, Tuple[\u001b[39mfloat\u001b[39m, \u001b[39mfloat\u001b[39m]]] \u001b[39m=\u001b[39m \u001b[39mNone\u001b[39;00m,\n\u001b[0;32m    219\u001b[0m ) \u001b[39m-\u001b[39m\u001b[39m>\u001b[39m Tuple[Union[OpenAIResponse, Iterator[OpenAIResponse]], \u001b[39mbool\u001b[39m, \u001b[39mstr\u001b[39m]:\n\u001b[1;32m--> 220\u001b[0m     result \u001b[39m=\u001b[39m \u001b[39mself\u001b[39;49m\u001b[39m.\u001b[39;49mrequest_raw(\n\u001b[0;32m    221\u001b[0m         method\u001b[39m.\u001b[39;49mlower(),\n\u001b[0;32m    222\u001b[0m         url,\n\u001b[0;32m    223\u001b[0m         params\u001b[39m=\u001b[39;49mparams,\n\u001b[0;32m    224\u001b[0m         supplied_headers\u001b[39m=\u001b[39;49mheaders,\n\u001b[0;32m    225\u001b[0m         files\u001b[39m=\u001b[39;49mfiles,\n\u001b[0;32m    226\u001b[0m         stream\u001b[39m=\u001b[39;49mstream,\n\u001b[0;32m    227\u001b[0m         request_id\u001b[39m=\u001b[39;49mrequest_id,\n\u001b[0;32m    228\u001b[0m         request_timeout\u001b[39m=\u001b[39;49mrequest_timeout,\n\u001b[0;32m    229\u001b[0m     )\n\u001b[0;32m    230\u001b[0m     resp, got_stream \u001b[39m=\u001b[39m \u001b[39mself\u001b[39m\u001b[39m.\u001b[39m_interpret_response(result, stream)\n\u001b[0;32m    231\u001b[0m     \u001b[39mreturn\u001b[39;00m resp, got_stream, \u001b[39mself\u001b[39m\u001b[39m.\u001b[39mapi_key\n",
      "File \u001b[1;32mc:\\Users\\kaben\\Documents\\GitHub\\irrealis\\openai-evals\\venv\\Lib\\site-packages\\openai\\api_requestor.py:520\u001b[0m, in \u001b[0;36mAPIRequestor.request_raw\u001b[1;34m(self, method, url, params, supplied_headers, files, stream, request_id, request_timeout)\u001b[0m\n\u001b[0;32m    518\u001b[0m     _thread_context\u001b[39m.\u001b[39msession \u001b[39m=\u001b[39m _make_session()\n\u001b[0;32m    519\u001b[0m \u001b[39mtry\u001b[39;00m:\n\u001b[1;32m--> 520\u001b[0m     result \u001b[39m=\u001b[39m _thread_context\u001b[39m.\u001b[39;49msession\u001b[39m.\u001b[39;49mrequest(\n\u001b[0;32m    521\u001b[0m         method,\n\u001b[0;32m    522\u001b[0m         abs_url,\n\u001b[0;32m    523\u001b[0m         headers\u001b[39m=\u001b[39;49mheaders,\n\u001b[0;32m    524\u001b[0m         data\u001b[39m=\u001b[39;49mdata,\n\u001b[0;32m    525\u001b[0m         files\u001b[39m=\u001b[39;49mfiles,\n\u001b[0;32m    526\u001b[0m         stream\u001b[39m=\u001b[39;49mstream,\n\u001b[0;32m    527\u001b[0m         timeout\u001b[39m=\u001b[39;49mrequest_timeout \u001b[39mif\u001b[39;49;00m request_timeout \u001b[39melse\u001b[39;49;00m TIMEOUT_SECS,\n\u001b[0;32m    528\u001b[0m         proxies\u001b[39m=\u001b[39;49m_thread_context\u001b[39m.\u001b[39;49msession\u001b[39m.\u001b[39;49mproxies,\n\u001b[0;32m    529\u001b[0m     )\n\u001b[0;32m    530\u001b[0m \u001b[39mexcept\u001b[39;00m requests\u001b[39m.\u001b[39mexceptions\u001b[39m.\u001b[39mTimeout \u001b[39mas\u001b[39;00m e:\n\u001b[0;32m    531\u001b[0m     \u001b[39mraise\u001b[39;00m error\u001b[39m.\u001b[39mTimeout(\u001b[39m\"\u001b[39m\u001b[39mRequest timed out: \u001b[39m\u001b[39m{}\u001b[39;00m\u001b[39m\"\u001b[39m\u001b[39m.\u001b[39mformat(e)) \u001b[39mfrom\u001b[39;00m \u001b[39me\u001b[39;00m\n",
      "File \u001b[1;32mc:\\Users\\kaben\\Documents\\GitHub\\irrealis\\openai-evals\\venv\\Lib\\site-packages\\requests\\sessions.py:587\u001b[0m, in \u001b[0;36mSession.request\u001b[1;34m(self, method, url, params, data, headers, cookies, files, auth, timeout, allow_redirects, proxies, hooks, stream, verify, cert, json)\u001b[0m\n\u001b[0;32m    582\u001b[0m send_kwargs \u001b[39m=\u001b[39m {\n\u001b[0;32m    583\u001b[0m     \u001b[39m\"\u001b[39m\u001b[39mtimeout\u001b[39m\u001b[39m\"\u001b[39m: timeout,\n\u001b[0;32m    584\u001b[0m     \u001b[39m\"\u001b[39m\u001b[39mallow_redirects\u001b[39m\u001b[39m\"\u001b[39m: allow_redirects,\n\u001b[0;32m    585\u001b[0m }\n\u001b[0;32m    586\u001b[0m send_kwargs\u001b[39m.\u001b[39mupdate(settings)\n\u001b[1;32m--> 587\u001b[0m resp \u001b[39m=\u001b[39m \u001b[39mself\u001b[39;49m\u001b[39m.\u001b[39;49msend(prep, \u001b[39m*\u001b[39;49m\u001b[39m*\u001b[39;49msend_kwargs)\n\u001b[0;32m    589\u001b[0m \u001b[39mreturn\u001b[39;00m resp\n",
      "File \u001b[1;32mc:\\Users\\kaben\\Documents\\GitHub\\irrealis\\openai-evals\\venv\\Lib\\site-packages\\requests\\sessions.py:701\u001b[0m, in \u001b[0;36mSession.send\u001b[1;34m(self, request, **kwargs)\u001b[0m\n\u001b[0;32m    698\u001b[0m start \u001b[39m=\u001b[39m preferred_clock()\n\u001b[0;32m    700\u001b[0m \u001b[39m# Send the request\u001b[39;00m\n\u001b[1;32m--> 701\u001b[0m r \u001b[39m=\u001b[39m adapter\u001b[39m.\u001b[39;49msend(request, \u001b[39m*\u001b[39;49m\u001b[39m*\u001b[39;49mkwargs)\n\u001b[0;32m    703\u001b[0m \u001b[39m# Total elapsed time of the request (approximately)\u001b[39;00m\n\u001b[0;32m    704\u001b[0m elapsed \u001b[39m=\u001b[39m preferred_clock() \u001b[39m-\u001b[39m start\n",
      "File \u001b[1;32mc:\\Users\\kaben\\Documents\\GitHub\\irrealis\\openai-evals\\venv\\Lib\\site-packages\\requests\\adapters.py:486\u001b[0m, in \u001b[0;36mHTTPAdapter.send\u001b[1;34m(self, request, stream, timeout, verify, cert, proxies)\u001b[0m\n\u001b[0;32m    483\u001b[0m     timeout \u001b[39m=\u001b[39m TimeoutSauce(connect\u001b[39m=\u001b[39mtimeout, read\u001b[39m=\u001b[39mtimeout)\n\u001b[0;32m    485\u001b[0m \u001b[39mtry\u001b[39;00m:\n\u001b[1;32m--> 486\u001b[0m     resp \u001b[39m=\u001b[39m conn\u001b[39m.\u001b[39;49murlopen(\n\u001b[0;32m    487\u001b[0m         method\u001b[39m=\u001b[39;49mrequest\u001b[39m.\u001b[39;49mmethod,\n\u001b[0;32m    488\u001b[0m         url\u001b[39m=\u001b[39;49murl,\n\u001b[0;32m    489\u001b[0m         body\u001b[39m=\u001b[39;49mrequest\u001b[39m.\u001b[39;49mbody,\n\u001b[0;32m    490\u001b[0m         headers\u001b[39m=\u001b[39;49mrequest\u001b[39m.\u001b[39;49mheaders,\n\u001b[0;32m    491\u001b[0m         redirect\u001b[39m=\u001b[39;49m\u001b[39mFalse\u001b[39;49;00m,\n\u001b[0;32m    492\u001b[0m         assert_same_host\u001b[39m=\u001b[39;49m\u001b[39mFalse\u001b[39;49;00m,\n\u001b[0;32m    493\u001b[0m         preload_content\u001b[39m=\u001b[39;49m\u001b[39mFalse\u001b[39;49;00m,\n\u001b[0;32m    494\u001b[0m         decode_content\u001b[39m=\u001b[39;49m\u001b[39mFalse\u001b[39;49;00m,\n\u001b[0;32m    495\u001b[0m         retries\u001b[39m=\u001b[39;49m\u001b[39mself\u001b[39;49m\u001b[39m.\u001b[39;49mmax_retries,\n\u001b[0;32m    496\u001b[0m         timeout\u001b[39m=\u001b[39;49mtimeout,\n\u001b[0;32m    497\u001b[0m         chunked\u001b[39m=\u001b[39;49mchunked,\n\u001b[0;32m    498\u001b[0m     )\n\u001b[0;32m    500\u001b[0m \u001b[39mexcept\u001b[39;00m (ProtocolError, \u001b[39mOSError\u001b[39;00m) \u001b[39mas\u001b[39;00m err:\n\u001b[0;32m    501\u001b[0m     \u001b[39mraise\u001b[39;00m \u001b[39mConnectionError\u001b[39;00m(err, request\u001b[39m=\u001b[39mrequest)\n",
      "File \u001b[1;32mc:\\Users\\kaben\\Documents\\GitHub\\irrealis\\openai-evals\\venv\\Lib\\site-packages\\urllib3\\connectionpool.py:703\u001b[0m, in \u001b[0;36mHTTPConnectionPool.urlopen\u001b[1;34m(self, method, url, body, headers, retries, redirect, assert_same_host, timeout, pool_timeout, release_conn, chunked, body_pos, **response_kw)\u001b[0m\n\u001b[0;32m    700\u001b[0m     \u001b[39mself\u001b[39m\u001b[39m.\u001b[39m_prepare_proxy(conn)\n\u001b[0;32m    702\u001b[0m \u001b[39m# Make the request on the httplib connection object.\u001b[39;00m\n\u001b[1;32m--> 703\u001b[0m httplib_response \u001b[39m=\u001b[39m \u001b[39mself\u001b[39;49m\u001b[39m.\u001b[39;49m_make_request(\n\u001b[0;32m    704\u001b[0m     conn,\n\u001b[0;32m    705\u001b[0m     method,\n\u001b[0;32m    706\u001b[0m     url,\n\u001b[0;32m    707\u001b[0m     timeout\u001b[39m=\u001b[39;49mtimeout_obj,\n\u001b[0;32m    708\u001b[0m     body\u001b[39m=\u001b[39;49mbody,\n\u001b[0;32m    709\u001b[0m     headers\u001b[39m=\u001b[39;49mheaders,\n\u001b[0;32m    710\u001b[0m     chunked\u001b[39m=\u001b[39;49mchunked,\n\u001b[0;32m    711\u001b[0m )\n\u001b[0;32m    713\u001b[0m \u001b[39m# If we're going to release the connection in ``finally:``, then\u001b[39;00m\n\u001b[0;32m    714\u001b[0m \u001b[39m# the response doesn't need to know about the connection. Otherwise\u001b[39;00m\n\u001b[0;32m    715\u001b[0m \u001b[39m# it will also try to release it and we'll have a double-release\u001b[39;00m\n\u001b[0;32m    716\u001b[0m \u001b[39m# mess.\u001b[39;00m\n\u001b[0;32m    717\u001b[0m response_conn \u001b[39m=\u001b[39m conn \u001b[39mif\u001b[39;00m \u001b[39mnot\u001b[39;00m release_conn \u001b[39melse\u001b[39;00m \u001b[39mNone\u001b[39;00m\n",
      "File \u001b[1;32mc:\\Users\\kaben\\Documents\\GitHub\\irrealis\\openai-evals\\venv\\Lib\\site-packages\\urllib3\\connectionpool.py:449\u001b[0m, in \u001b[0;36mHTTPConnectionPool._make_request\u001b[1;34m(self, conn, method, url, timeout, chunked, **httplib_request_kw)\u001b[0m\n\u001b[0;32m    444\u001b[0m             httplib_response \u001b[39m=\u001b[39m conn\u001b[39m.\u001b[39mgetresponse()\n\u001b[0;32m    445\u001b[0m         \u001b[39mexcept\u001b[39;00m \u001b[39mBaseException\u001b[39;00m \u001b[39mas\u001b[39;00m e:\n\u001b[0;32m    446\u001b[0m             \u001b[39m# Remove the TypeError from the exception chain in\u001b[39;00m\n\u001b[0;32m    447\u001b[0m             \u001b[39m# Python 3 (including for exceptions like SystemExit).\u001b[39;00m\n\u001b[0;32m    448\u001b[0m             \u001b[39m# Otherwise it looks like a bug in the code.\u001b[39;00m\n\u001b[1;32m--> 449\u001b[0m             six\u001b[39m.\u001b[39;49mraise_from(e, \u001b[39mNone\u001b[39;49;00m)\n\u001b[0;32m    450\u001b[0m \u001b[39mexcept\u001b[39;00m (SocketTimeout, BaseSSLError, SocketError) \u001b[39mas\u001b[39;00m e:\n\u001b[0;32m    451\u001b[0m     \u001b[39mself\u001b[39m\u001b[39m.\u001b[39m_raise_timeout(err\u001b[39m=\u001b[39me, url\u001b[39m=\u001b[39murl, timeout_value\u001b[39m=\u001b[39mread_timeout)\n",
      "File \u001b[1;32m<string>:3\u001b[0m, in \u001b[0;36mraise_from\u001b[1;34m(value, from_value)\u001b[0m\n",
      "File \u001b[1;32mc:\\Users\\kaben\\Documents\\GitHub\\irrealis\\openai-evals\\venv\\Lib\\site-packages\\urllib3\\connectionpool.py:444\u001b[0m, in \u001b[0;36mHTTPConnectionPool._make_request\u001b[1;34m(self, conn, method, url, timeout, chunked, **httplib_request_kw)\u001b[0m\n\u001b[0;32m    441\u001b[0m \u001b[39mexcept\u001b[39;00m \u001b[39mTypeError\u001b[39;00m:\n\u001b[0;32m    442\u001b[0m     \u001b[39m# Python 3\u001b[39;00m\n\u001b[0;32m    443\u001b[0m     \u001b[39mtry\u001b[39;00m:\n\u001b[1;32m--> 444\u001b[0m         httplib_response \u001b[39m=\u001b[39m conn\u001b[39m.\u001b[39;49mgetresponse()\n\u001b[0;32m    445\u001b[0m     \u001b[39mexcept\u001b[39;00m \u001b[39mBaseException\u001b[39;00m \u001b[39mas\u001b[39;00m e:\n\u001b[0;32m    446\u001b[0m         \u001b[39m# Remove the TypeError from the exception chain in\u001b[39;00m\n\u001b[0;32m    447\u001b[0m         \u001b[39m# Python 3 (including for exceptions like SystemExit).\u001b[39;00m\n\u001b[0;32m    448\u001b[0m         \u001b[39m# Otherwise it looks like a bug in the code.\u001b[39;00m\n\u001b[0;32m    449\u001b[0m         six\u001b[39m.\u001b[39mraise_from(e, \u001b[39mNone\u001b[39;00m)\n",
      "File \u001b[1;32m~\\AppData\\Local\\Programs\\Python\\Python311\\Lib\\http\\client.py:1375\u001b[0m, in \u001b[0;36mHTTPConnection.getresponse\u001b[1;34m(self)\u001b[0m\n\u001b[0;32m   1373\u001b[0m \u001b[39mtry\u001b[39;00m:\n\u001b[0;32m   1374\u001b[0m     \u001b[39mtry\u001b[39;00m:\n\u001b[1;32m-> 1375\u001b[0m         response\u001b[39m.\u001b[39;49mbegin()\n\u001b[0;32m   1376\u001b[0m     \u001b[39mexcept\u001b[39;00m \u001b[39mConnectionError\u001b[39;00m:\n\u001b[0;32m   1377\u001b[0m         \u001b[39mself\u001b[39m\u001b[39m.\u001b[39mclose()\n",
      "File \u001b[1;32m~\\AppData\\Local\\Programs\\Python\\Python311\\Lib\\http\\client.py:318\u001b[0m, in \u001b[0;36mHTTPResponse.begin\u001b[1;34m(self)\u001b[0m\n\u001b[0;32m    316\u001b[0m \u001b[39m# read until we get a non-100 response\u001b[39;00m\n\u001b[0;32m    317\u001b[0m \u001b[39mwhile\u001b[39;00m \u001b[39mTrue\u001b[39;00m:\n\u001b[1;32m--> 318\u001b[0m     version, status, reason \u001b[39m=\u001b[39m \u001b[39mself\u001b[39;49m\u001b[39m.\u001b[39;49m_read_status()\n\u001b[0;32m    319\u001b[0m     \u001b[39mif\u001b[39;00m status \u001b[39m!=\u001b[39m CONTINUE:\n\u001b[0;32m    320\u001b[0m         \u001b[39mbreak\u001b[39;00m\n",
      "File \u001b[1;32m~\\AppData\\Local\\Programs\\Python\\Python311\\Lib\\http\\client.py:279\u001b[0m, in \u001b[0;36mHTTPResponse._read_status\u001b[1;34m(self)\u001b[0m\n\u001b[0;32m    278\u001b[0m \u001b[39mdef\u001b[39;00m \u001b[39m_read_status\u001b[39m(\u001b[39mself\u001b[39m):\n\u001b[1;32m--> 279\u001b[0m     line \u001b[39m=\u001b[39m \u001b[39mstr\u001b[39m(\u001b[39mself\u001b[39;49m\u001b[39m.\u001b[39;49mfp\u001b[39m.\u001b[39;49mreadline(_MAXLINE \u001b[39m+\u001b[39;49m \u001b[39m1\u001b[39;49m), \u001b[39m\"\u001b[39m\u001b[39miso-8859-1\u001b[39m\u001b[39m\"\u001b[39m)\n\u001b[0;32m    280\u001b[0m     \u001b[39mif\u001b[39;00m \u001b[39mlen\u001b[39m(line) \u001b[39m>\u001b[39m _MAXLINE:\n\u001b[0;32m    281\u001b[0m         \u001b[39mraise\u001b[39;00m LineTooLong(\u001b[39m\"\u001b[39m\u001b[39mstatus line\u001b[39m\u001b[39m\"\u001b[39m)\n",
      "File \u001b[1;32m~\\AppData\\Local\\Programs\\Python\\Python311\\Lib\\socket.py:706\u001b[0m, in \u001b[0;36mSocketIO.readinto\u001b[1;34m(self, b)\u001b[0m\n\u001b[0;32m    704\u001b[0m \u001b[39mwhile\u001b[39;00m \u001b[39mTrue\u001b[39;00m:\n\u001b[0;32m    705\u001b[0m     \u001b[39mtry\u001b[39;00m:\n\u001b[1;32m--> 706\u001b[0m         \u001b[39mreturn\u001b[39;00m \u001b[39mself\u001b[39;49m\u001b[39m.\u001b[39;49m_sock\u001b[39m.\u001b[39;49mrecv_into(b)\n\u001b[0;32m    707\u001b[0m     \u001b[39mexcept\u001b[39;00m timeout:\n\u001b[0;32m    708\u001b[0m         \u001b[39mself\u001b[39m\u001b[39m.\u001b[39m_timeout_occurred \u001b[39m=\u001b[39m \u001b[39mTrue\u001b[39;00m\n",
      "File \u001b[1;32m~\\AppData\\Local\\Programs\\Python\\Python311\\Lib\\ssl.py:1278\u001b[0m, in \u001b[0;36mSSLSocket.recv_into\u001b[1;34m(self, buffer, nbytes, flags)\u001b[0m\n\u001b[0;32m   1274\u001b[0m     \u001b[39mif\u001b[39;00m flags \u001b[39m!=\u001b[39m \u001b[39m0\u001b[39m:\n\u001b[0;32m   1275\u001b[0m         \u001b[39mraise\u001b[39;00m \u001b[39mValueError\u001b[39;00m(\n\u001b[0;32m   1276\u001b[0m           \u001b[39m\"\u001b[39m\u001b[39mnon-zero flags not allowed in calls to recv_into() on \u001b[39m\u001b[39m%s\u001b[39;00m\u001b[39m\"\u001b[39m \u001b[39m%\u001b[39m\n\u001b[0;32m   1277\u001b[0m           \u001b[39mself\u001b[39m\u001b[39m.\u001b[39m\u001b[39m__class__\u001b[39m)\n\u001b[1;32m-> 1278\u001b[0m     \u001b[39mreturn\u001b[39;00m \u001b[39mself\u001b[39;49m\u001b[39m.\u001b[39;49mread(nbytes, buffer)\n\u001b[0;32m   1279\u001b[0m \u001b[39melse\u001b[39;00m:\n\u001b[0;32m   1280\u001b[0m     \u001b[39mreturn\u001b[39;00m \u001b[39msuper\u001b[39m()\u001b[39m.\u001b[39mrecv_into(buffer, nbytes, flags)\n",
      "File \u001b[1;32m~\\AppData\\Local\\Programs\\Python\\Python311\\Lib\\ssl.py:1134\u001b[0m, in \u001b[0;36mSSLSocket.read\u001b[1;34m(self, len, buffer)\u001b[0m\n\u001b[0;32m   1132\u001b[0m \u001b[39mtry\u001b[39;00m:\n\u001b[0;32m   1133\u001b[0m     \u001b[39mif\u001b[39;00m buffer \u001b[39mis\u001b[39;00m \u001b[39mnot\u001b[39;00m \u001b[39mNone\u001b[39;00m:\n\u001b[1;32m-> 1134\u001b[0m         \u001b[39mreturn\u001b[39;00m \u001b[39mself\u001b[39;49m\u001b[39m.\u001b[39;49m_sslobj\u001b[39m.\u001b[39;49mread(\u001b[39mlen\u001b[39;49m, buffer)\n\u001b[0;32m   1135\u001b[0m     \u001b[39melse\u001b[39;00m:\n\u001b[0;32m   1136\u001b[0m         \u001b[39mreturn\u001b[39;00m \u001b[39mself\u001b[39m\u001b[39m.\u001b[39m_sslobj\u001b[39m.\u001b[39mread(\u001b[39mlen\u001b[39m)\n",
      "\u001b[1;31mKeyboardInterrupt\u001b[0m: "
     ]
    }
   ],
   "source": [
    "for i, problem in enumerate(problems):\n",
    "  if i < 2:\n",
    "    continue\n",
    "  prompt = problem_fmt.format(problem = problem['input'])\n",
    "  print(f'*** Prompt: {prompt}')\n",
    "  completion = openai.ChatCompletion.create(\n",
    "    model=\"gpt-3.5-turbo\",\n",
    "    messages=[\n",
    "      {\"role\": \"user\", \"content\": prompt}\n",
    "    ],\n",
    "    n = 5,\n",
    "  )\n",
    "  responses = [LiteralScalarString(choice.message.content) for choice in completion.choices]\n",
    "  problems[i]['responses'] = responses\n",
    "  for j, response in enumerate(responses):\n",
    "    print(f'--- Response {j+1}\\n')\n",
    "    print(response)\n",
    "  time.sleep(5)"
   ]
  },
  {
   "cell_type": "code",
   "execution_count": 21,
   "metadata": {},
   "outputs": [
    {
     "name": "stdout",
     "output_type": "stream",
     "text": [
      "\n",
      "Evaluate the following integral:\n",
      "\\[\n",
      "\\int x^n dx\n",
      "\\]\n",
      "where \\(n != -1\\).\n",
      "Explain your reasoning. Use LaTeX with delimiters '\\(' and '\\)' to make mathematical statements. When you are done, repeat your answer by itself on a new line.\n",
      "\n"
     ]
    }
   ],
   "source": [
    "prompt = problem_fmt.format(problem = problems[0]['input'])\n",
    "print(prompt)"
   ]
  },
  {
   "cell_type": "code",
   "execution_count": 23,
   "metadata": {},
   "outputs": [],
   "source": [
    "completion = openai.ChatCompletion.create(\n",
    "  model=\"gpt-3.5-turbo\",\n",
    "  messages=[\n",
    "    {\"role\": \"user\", \"content\": prompt}\n",
    "  ],\n",
    "  n = 5,\n",
    ")\n",
    "responses = [choice.message.content for choice in completion.choices]"
   ]
  },
  {
   "cell_type": "code",
   "execution_count": 29,
   "metadata": {},
   "outputs": [],
   "source": [
    "responses = [choice.message.content for choice in completion.choices]"
   ]
  },
  {
   "cell_type": "code",
   "execution_count": 39,
   "metadata": {},
   "outputs": [],
   "source": [
    "responses = [LiteralScalarString(choice.message.content) for choice in completion.choices]"
   ]
  },
  {
   "cell_type": "code",
   "execution_count": 40,
   "metadata": {},
   "outputs": [
    {
     "name": "stdout",
     "output_type": "stream",
     "text": [
      "--- Response 1\n",
      "\n",
      "Using the power rule of integration, we have:\n",
      "\n",
      "\\[\n",
      "\\int x^n dx = \\frac{x^{n+1}}{n+1} + C\n",
      "\\]\n",
      "\n",
      "where \\(C\\) is the constant of integration. \n",
      "\n",
      "Answer: \\[\\int x^n dx = \\frac{x^{n+1}}{n+1} + C\\]\n",
      "--- Response 2\n",
      "\n",
      "Using the power rule of integration, we have:\n",
      "\\[\n",
      "\\int x^n dx = \\frac{x^{n+1}}{n+1} + C\n",
      "\\]\n",
      "where \\(C\\) is the constant of integration. \n",
      "\n",
      "Repeated answer: \n",
      "\\[\n",
      "\\int x^n dx = \\frac{x^{n+1}}{n+1} + C\n",
      "\\]\n",
      "--- Response 3\n",
      "\n",
      "We use the power rule of integration, which states that for any real number \\(n \\neq -1\\), \\[\\int x^n dx = \\frac{x^{n+1}}{n+1} + C,\\] where \\(C\\) is the constant of integration. \n",
      "\n",
      "Therefore, \\[\\int x^n dx = \\frac{x^{n+1}}{n+1} + C.\\]\n",
      "\n",
      "\\[\\int x^n dx = \\frac{x^{n+1}}{n+1} + C\\]\n",
      "--- Response 4\n",
      "\n",
      "We have \n",
      "\\begin{align*} \n",
      "\\int x^n dx &= \\frac{x^{n+1}}{n+1} +C \\quad (\\text{since } n \\neq -1)\\\\\n",
      "&= \\frac{1}{n+1}x^{n+1}+C\n",
      "\\end{align*}\n",
      "\n",
      "Therefore, \n",
      "\\[\\int x^n dx = \\frac{1}{n+1}x^{n+1}+C\\]\n",
      "--- Response 5\n",
      "\n",
      "If \\(n != -1\\), then we have \n",
      "\\[\n",
      "\\int x^n dx = \\frac{1}{n+1}x^{n+1} +C\n",
      "\\]\n",
      "This can be shown by differentiating the right-hand side and observing that we obtain \\(x^n\\) as desired. Therefore,\n",
      "\\[\n",
      "\\int x^n dx = \\frac{1}{n+1}x^{n+1} +C\n",
      "\\]\n",
      "\n"
     ]
    }
   ],
   "source": [
    "for i, response in enumerate(responses):\n",
    "  print(f'--- Response {i+1}\\n')\n",
    "  print(response)"
   ]
  },
  {
   "cell_type": "code",
   "execution_count": 41,
   "metadata": {},
   "outputs": [
    {
     "data": {
      "text/plain": [
       "{'input': '\\\\[\\n\\\\int x^n dx\\n\\\\]\\nwhere \\\\(n != -1\\\\).', 'ideal': '\\\\(\\\\int x^n dx = \\\\frac{x^{n+1}}{n+1} + C\\\\), for \\\\(n \\\\neq -1\\\\).', 'responses': ['Using the power rule of integration, we have:\\n\\n\\\\[\\n\\\\int x^n dx = \\\\frac{x^{n+1}}{n+1} + C\\n\\\\]\\n\\nwhere \\\\(C\\\\) is the constant of integration. \\n\\nAnswer: \\\\[\\\\int x^n dx = \\\\frac{x^{n+1}}{n+1} + C\\\\]', 'Using the power rule of integration, we have:\\n\\\\[\\n\\\\int x^n dx = \\\\frac{x^{n+1}}{n+1} + C\\n\\\\]\\nwhere \\\\(C\\\\) is the constant of integration. \\n\\nRepeated answer: \\n\\\\[\\n\\\\int x^n dx = \\\\frac{x^{n+1}}{n+1} + C\\n\\\\]', 'We use the power rule of integration, which states that for any real number \\\\(n \\\\neq -1\\\\), \\\\[\\\\int x^n dx = \\\\frac{x^{n+1}}{n+1} + C,\\\\] where \\\\(C\\\\) is the constant of integration. \\n\\nTherefore, \\\\[\\\\int x^n dx = \\\\frac{x^{n+1}}{n+1} + C.\\\\]\\n\\n\\\\[\\\\int x^n dx = \\\\frac{x^{n+1}}{n+1} + C\\\\]', 'We have \\n\\\\begin{align*} \\n\\\\int x^n dx &= \\\\frac{x^{n+1}}{n+1} +C \\\\quad (\\\\text{since } n \\\\neq -1)\\\\\\\\\\n&= \\\\frac{1}{n+1}x^{n+1}+C\\n\\\\end{align*}\\n\\nTherefore, \\n\\\\[\\\\int x^n dx = \\\\frac{1}{n+1}x^{n+1}+C\\\\]', 'If \\\\(n != -1\\\\), then we have \\n\\\\[\\n\\\\int x^n dx = \\\\frac{1}{n+1}x^{n+1} +C\\n\\\\]\\nThis can be shown by differentiating the right-hand side and observing that we obtain \\\\(x^n\\\\) as desired. Therefore,\\n\\\\[\\n\\\\int x^n dx = \\\\frac{1}{n+1}x^{n+1} +C\\n\\\\]\\n']}"
      ]
     },
     "execution_count": 41,
     "metadata": {},
     "output_type": "execute_result"
    }
   ],
   "source": [
    "problems[0]['responses'] = responses\n",
    "problems[0]"
   ]
  },
  {
   "cell_type": "code",
   "execution_count": null,
   "metadata": {},
   "outputs": [],
   "source": [
    "help(yaml)"
   ]
  },
  {
   "cell_type": "code",
   "execution_count": 47,
   "metadata": {},
   "outputs": [],
   "source": [
    "with open('calculus-responses.yaml', 'w') as f:\n",
    "  yaml.dump(problems, f)"
   ]
  },
  {
   "cell_type": "code",
   "execution_count": null,
   "metadata": {},
   "outputs": [],
   "source": []
  },
  {
   "cell_type": "code",
   "execution_count": 42,
   "metadata": {},
   "outputs": [
    {
     "name": "stdout",
     "output_type": "stream",
     "text": [
      "Using the Power Rule, we have:\n",
      "\\[\n",
      "\\int x^n dx = \\frac{x^{n+1}}{n+1} + C\n",
      "\\]\n",
      "where \\(C\\) is the constant of integration.\n",
      "\n",
      "Repeating the answer: \n",
      "\\[\n",
      "\\int x^n dx = \\frac{x^{n+1}}{n+1} + C\n",
      "\\]\n"
     ]
    }
   ],
   "source": [
    "print(completion.choices[0].message.content)"
   ]
  },
  {
   "cell_type": "code",
   "execution_count": null,
   "metadata": {},
   "outputs": [],
   "source": []
  }
 ],
 "metadata": {
  "kernelspec": {
   "display_name": "venv",
   "language": "python",
   "name": "python3"
  },
  "language_info": {
   "codemirror_mode": {
    "name": "ipython",
    "version": 3
   },
   "file_extension": ".py",
   "mimetype": "text/x-python",
   "name": "python",
   "nbconvert_exporter": "python",
   "pygments_lexer": "ipython3",
   "version": "3.11.3"
  },
  "orig_nbformat": 4
 },
 "nbformat": 4,
 "nbformat_minor": 2
}
