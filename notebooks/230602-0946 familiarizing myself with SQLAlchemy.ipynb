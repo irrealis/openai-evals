{
 "cells": [
  {
   "cell_type": "code",
   "execution_count": 1,
   "id": "5117a1d1-b5cc-49ca-9c68-fa53d2ec3f35",
   "metadata": {},
   "outputs": [],
   "source": [
    "import sqlalchemy as sa\n",
    "import sqlalchemy.orm"
   ]
  },
  {
   "cell_type": "code",
   "execution_count": 24,
   "id": "30011cd8-eee3-4364-b1b3-578acaba8a62",
   "metadata": {},
   "outputs": [],
   "source": [
    "class Base(sa.orm.DeclarativeBase):\n",
    "  def repr(self, name=None, keys=None):\n",
    "    if name is None:\n",
    "      name = self.__class__.__name__\n",
    "    if keys is None:\n",
    "      keys = self.__table__.columns.keys()\n",
    "    d = {key:self.__dict__[key] for key in keys}\n",
    "    return f'<{name}: {d}>'\n",
    "  def __repr__(self):\n",
    "    return self.repr()"
   ]
  },
  {
   "cell_type": "code",
   "execution_count": 25,
   "id": "b02867c3-29fe-476e-aa2f-8d18a438a324",
   "metadata": {},
   "outputs": [],
   "source": [
    "class Fubar(Base):\n",
    "  __tablename__ = 'fubars'\n",
    "  id: sa.orm.Mapped[int] = sa.orm.mapped_column(primary_key=True)\n",
    "  name: sa.orm.Mapped[str] = sa.orm.mapped_column(sa.String)"
   ]
  },
  {
   "cell_type": "code",
   "execution_count": 26,
   "id": "b8a0e824-c38d-4757-8dbc-5cde56798468",
   "metadata": {},
   "outputs": [],
   "source": [
    "engine = sa.create_engine('sqlite://')\n",
    "sess = sa.orm.Session(engine)\n",
    "Base.metadata.create_all(engine)"
   ]
  },
  {
   "cell_type": "code",
   "execution_count": 27,
   "id": "839d266a-5448-4194-a0b3-00b7ce65226b",
   "metadata": {},
   "outputs": [],
   "source": [
    "fubar = Fubar(name='fubar')\n",
    "sess.add(fubar)\n",
    "sess.commit()"
   ]
  },
  {
   "cell_type": "code",
   "execution_count": 35,
   "id": "6e2d203c-8c41-4059-83a0-b3b250503965",
   "metadata": {},
   "outputs": [
    {
     "data": {
      "text/plain": [
       "{'_sa_instance_state': <sqlalchemy.orm.state.InstanceState at 0x7f9fa3a3d300>,\n",
       " 'name': 'fubar',\n",
       " 'id': 1}"
      ]
     },
     "execution_count": 35,
     "metadata": {},
     "output_type": "execute_result"
    }
   ],
   "source": [
    "fubar.__dict__"
   ]
  },
  {
   "cell_type": "code",
   "execution_count": null,
   "id": "e54ecba1-0bb2-4c48-93f1-be3c291f12b8",
   "metadata": {},
   "outputs": [],
   "source": [
    "dict."
   ]
  }
 ],
 "metadata": {
  "kernelspec": {
   "display_name": "Python 3 (ipykernel)",
   "language": "python",
   "name": "python3"
  },
  "language_info": {
   "codemirror_mode": {
    "name": "ipython",
    "version": 3
   },
   "file_extension": ".py",
   "mimetype": "text/x-python",
   "name": "python",
   "nbconvert_exporter": "python",
   "pygments_lexer": "ipython3",
   "version": "3.10.6"
  }
 },
 "nbformat": 4,
 "nbformat_minor": 5
}
