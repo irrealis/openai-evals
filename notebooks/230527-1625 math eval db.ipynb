{
 "cells": [
  {
   "cell_type": "code",
   "execution_count": 5,
   "metadata": {},
   "outputs": [],
   "source": [
    "db = None"
   ]
  },
  {
   "cell_type": "code",
   "execution_count": 169,
   "metadata": {},
   "outputs": [],
   "source": [
    "from collections import namedtuple\n",
    "import sqlite3\n",
    "\n",
    "\n",
    "def namedtuple_factory(cursor, row):\n",
    "    fields = [column[0] for column in cursor.description]\n",
    "    cls = namedtuple(\"Row\", fields)\n",
    "    return cls._make(row)\n",
    "\n",
    "\n",
    "class MathEvalDB:\n",
    "  def __init__(self, connection = None):\n",
    "    if connection is None:\n",
    "      connection = ':memory'\n",
    "    if type(connection) == str:\n",
    "      connection = sqlite3.connect(connection)\n",
    "    self.connection = connection\n",
    "    self.connection.row_factory = namedtuple_factory\n",
    "    #self.connection.row_factory = sqlite3.Row\n",
    "    self.cursor = self.connection.cursor()\n",
    "    self.init_tables()\n",
    "\n",
    "  def commit(self):\n",
    "    self.connection.commit()\n",
    "    \n",
    "  def rollback(self):\n",
    "    self.connection.rollback()\n",
    "    \n",
    "  def init_tables(self):\n",
    "    self.cursor.execute('''\n",
    "      CREATE TABLE IF NOT EXISTS models (\n",
    "        id INTEGER PRIMARY KEY,\n",
    "        name TEXT\n",
    "      )\n",
    "    ''')\n",
    "    \n",
    "    self.cursor.execute('''\n",
    "      CREATE TABLE IF NOT EXISTS problem_sets (\n",
    "        id INTEGER PRIMARY KEY,\n",
    "        name TEXT,\n",
    "        comment TEXT\n",
    "      )\n",
    "    ''')\n",
    "    self.cursor.execute('''\n",
    "      CREATE TABLE IF NOT EXISTS problems (\n",
    "        id INTEGER PRIMARY KEY,\n",
    "        input TEXT,\n",
    "        ideal TEXT,\n",
    "        rubric TEXT,\n",
    "        problem_set_id INTEGER,\n",
    "        FOREIGN KEY(problem_set_id) REFERENCES problem_sets(id)\n",
    "      )\n",
    "    ''')\n",
    "    \n",
    "    self.cursor.execute('''\n",
    "      CREATE TABLE IF NOT EXISTS submission_sets (\n",
    "        id INTEGER PRIMARY KEY,\n",
    "        name TEXT,\n",
    "        comment TEXT,\n",
    "        model_id INTEGER,\n",
    "        FOREIGN KEY(model_id) REFERENCES models(id)\n",
    "      )\n",
    "    ''')\n",
    "    self.cursor.execute('''\n",
    "      CREATE TABLE IF NOT EXISTS submissions (\n",
    "        id INTEGER PRIMARY KEY,\n",
    "        completion_json TEXT,\n",
    "        score NUMERIC,\n",
    "        comment TEXT,\n",
    "        problem_id INTEGER,\n",
    "        submission_set_id INTEGER,\n",
    "        FOREIGN KEY(problem_id) REFERENCES problems(id),\n",
    "        FOREIGN KEY(submission_set_id) REFERENCES submission_sets(id)\n",
    "      )\n",
    "    ''')\n",
    "    \n",
    "    self.cursor.execute('''\n",
    "      CREATE TABLE IF NOT EXISTS evaluation_sets (\n",
    "        id INTEGER PRIMARY KEY,\n",
    "        name TEXT,\n",
    "        comment TEXT,\n",
    "        model_id INTEGER,\n",
    "        FOREIGN KEY(model_id) REFERENCES models(id)\n",
    "      )\n",
    "    ''')\n",
    "    self.cursor.execute('''\n",
    "      CREATE TABLE IF NOT EXISTS evaluations (\n",
    "        id INTEGER PRIMARY KEY,\n",
    "        completion_json TEXT,\n",
    "        score NUMERIC,\n",
    "        comment TEXT,\n",
    "        submission_id INTEGER,\n",
    "        evaluation_set_id INTEGER,\n",
    "        FOREIGN KEY(submission_id) REFERENCES submissions(id),\n",
    "        FOREIGN KEY(evaluation_set_id) REFERENCES evaluation_sets(id)\n",
    "      )\n",
    "    ''')\n",
    "\n",
    "\n",
    "  def list_tables(self):\n",
    "    return self.cursor.execute('''\n",
    "      SELECT name\n",
    "      FROM sqlite_schema\n",
    "      WHERE type ='table' AND name NOT LIKE 'sqlite_%'\n",
    "    ''').fetchall()\n",
    "\n",
    "  def find_table(self, name):\n",
    "    return self.cursor.execute('''\n",
    "      SELECT name\n",
    "      FROM sqlite_schema\n",
    "      WHERE type ='table' AND name NOT LIKE 'sqlite_%' AND name = :name\n",
    "    ''', {'name': name}).fetchall()\n",
    "    \n",
    "  def _and_str(self, **params):\n",
    "    return ' AND '.join(f'{key} = :{key}' for key in params.keys())\n",
    "  \n",
    "  def list_table_entries(self, table_name, **params):\n",
    "    table = self.find_table(table_name)\n",
    "    if table:\n",
    "      if params:\n",
    "        and_str = self._and_str(**params)\n",
    "        where_str = f'WHERE {and_str}'\n",
    "        query_str = f'SELECT * FROM {table_name} {where_str}'\n",
    "        return self.cursor.execute(query_str, params).fetchall()\n",
    "      else:\n",
    "        query_str = f'SELECT * FROM {table_name}'\n",
    "        return self.cursor.execute(query_str).fetchall()\n",
    "    else:\n",
    "      raise KeyError(f'table \"{table_name}\" not found')\n",
    "\n",
    "  \n",
    "  def find_model(self, name):\n",
    "    return self.cursor.execute('SELECT * FROM models WHERE name = :name', {'name': name}).fetchone()\n",
    "    \n",
    "  def add_model(self, name):\n",
    "    model = self.cursor.execute('SELECT * FROM models WHERE name = :name', {'name': name}).fetchone()\n",
    "    if not model:\n",
    "      self.cursor.execute('INSERT INTO models (name) VALUES (:name)', {'name': name})\n",
    "\n",
    "  def list_models(self, **params):\n",
    "    return self.list_table_entries('models', **params)\n",
    "    \n",
    "    \n",
    "  def find_problem_set(self, name):\n",
    "    return self.cursor.execute('SELECT * FROM problem_sets WHERE name = :name', {'name': name}).fetchone()\n",
    "    \n",
    "  def add_problem_set(self, name):\n",
    "    problem_set = self.cursor.execute('SELECT * FROM problem_sets WHERE name = :name', {'name': name}).fetchone()\n",
    "    if not problem_set:\n",
    "      self.cursor.execute('INSERT INTO problem_sets (name) VALUES (:name)', {'name': name})\n",
    "\n",
    "  def list_problem_sets(self, **params):\n",
    "    return self.list_table_entries('problem_sets', **params)\n",
    "\n",
    "    \n",
    "    \n",
    "  def find_problem_set(self, name):\n",
    "    return self.cursor.execute('SELECT * FROM problem_sets WHERE name = :name', {'name': name}).fetchone()\n",
    "    \n",
    "  def add_problem_set(self, name):\n",
    "    problem_set = self.cursor.execute('SELECT * FROM problem_sets WHERE name = :name', {'name': name}).fetchone()\n",
    "    if not problem_set:\n",
    "      self.cursor.execute('INSERT INTO problem_sets (name) VALUES (:name)', {'name': name})\n",
    "\n",
    "  def list_problem_sets(self, **params):\n",
    "    return self.list_table_entries('problem_sets', **params)\n",
    "\n",
    "\n",
    "\n"
   ]
  },
  {
   "cell_type": "code",
   "execution_count": 170,
   "metadata": {},
   "outputs": [],
   "source": [
    "if db is None:\n",
    "  db = MathEvalDB('test.db')\n",
    "else:\n",
    "  db = MathEvalDB(db.connection)"
   ]
  },
  {
   "cell_type": "code",
   "execution_count": 171,
   "metadata": {},
   "outputs": [
    {
     "data": {
      "text/plain": [
       "[Row(name='models'),\n",
       " Row(name='problem_sets'),\n",
       " Row(name='problems'),\n",
       " Row(name='submission_sets'),\n",
       " Row(name='submissions'),\n",
       " Row(name='evaluation_sets'),\n",
       " Row(name='evaluations')]"
      ]
     },
     "execution_count": 171,
     "metadata": {},
     "output_type": "execute_result"
    }
   ],
   "source": [
    "db.list_tables()"
   ]
  },
  {
   "cell_type": "code",
   "execution_count": 172,
   "metadata": {},
   "outputs": [
    {
     "data": {
      "text/plain": [
       "[Row(name='models')]"
      ]
     },
     "execution_count": 172,
     "metadata": {},
     "output_type": "execute_result"
    }
   ],
   "source": [
    "db.find_table('models')"
   ]
  },
  {
   "cell_type": "code",
   "execution_count": 167,
   "metadata": {},
   "outputs": [
    {
     "data": {
      "text/plain": [
       "'example'"
      ]
     },
     "execution_count": 167,
     "metadata": {},
     "output_type": "execute_result"
    }
   ],
   "source": [
    "model = db.find_model('example')\n",
    "model.name if model else None"
   ]
  },
  {
   "cell_type": "code",
   "execution_count": 168,
   "metadata": {},
   "outputs": [
    {
     "data": {
      "text/plain": [
       "('id', 'name')"
      ]
     },
     "execution_count": 168,
     "metadata": {},
     "output_type": "execute_result"
    }
   ],
   "source": [
    "model._fields"
   ]
  },
  {
   "cell_type": "code",
   "execution_count": 154,
   "metadata": {},
   "outputs": [],
   "source": [
    "db.add_model('example')\n",
    "db.commit()"
   ]
  },
  {
   "cell_type": "code",
   "execution_count": 155,
   "metadata": {},
   "outputs": [
    {
     "data": {
      "text/plain": [
       "[Row(id=1, name='example')]"
      ]
     },
     "execution_count": 155,
     "metadata": {},
     "output_type": "execute_result"
    }
   ],
   "source": [
    "db.list_models()"
   ]
  },
  {
   "cell_type": "code",
   "execution_count": 156,
   "metadata": {},
   "outputs": [
    {
     "data": {
      "text/plain": [
       "'example'"
      ]
     },
     "execution_count": 156,
     "metadata": {},
     "output_type": "execute_result"
    }
   ],
   "source": [
    "problem_set = db.find_problem_set('example')\n",
    "problem_set.name if problem_set else None"
   ]
  },
  {
   "cell_type": "code",
   "execution_count": 157,
   "metadata": {},
   "outputs": [],
   "source": [
    "db.add_problem_set('example')"
   ]
  },
  {
   "cell_type": "code",
   "execution_count": 158,
   "metadata": {},
   "outputs": [
    {
     "data": {
      "text/plain": [
       "'example'"
      ]
     },
     "execution_count": 158,
     "metadata": {},
     "output_type": "execute_result"
    }
   ],
   "source": [
    "problem_set = db.find_problem_set('example')\n",
    "problem_set.name if problem_set else None"
   ]
  },
  {
   "cell_type": "code",
   "execution_count": 159,
   "metadata": {},
   "outputs": [
    {
     "data": {
      "text/plain": [
       "[Row(id=1, name='example', comment=None)]"
      ]
     },
     "execution_count": 159,
     "metadata": {},
     "output_type": "execute_result"
    }
   ],
   "source": [
    "db.list_table_entries('problem_sets', name='example')"
   ]
  },
  {
   "cell_type": "code",
   "execution_count": 12,
   "metadata": {},
   "outputs": [
    {
     "data": {
      "text/plain": [
       "[]"
      ]
     },
     "execution_count": 12,
     "metadata": {},
     "output_type": "execute_result"
    }
   ],
   "source": [
    "list(db.cursor.execute('drop table problems'))"
   ]
  },
  {
   "cell_type": "code",
   "execution_count": 109,
   "metadata": {},
   "outputs": [
    {
     "data": {
      "text/plain": [
       "':fu AND :foo'"
      ]
     },
     "execution_count": 109,
     "metadata": {},
     "output_type": "execute_result"
    }
   ],
   "source": [
    "_d = dict(fu = 'bar', foo = 'baz')\n",
    "' AND '.join(f':{key}' for key in _d.keys())"
   ]
  },
  {
   "cell_type": "code",
   "execution_count": null,
   "metadata": {},
   "outputs": [],
   "source": []
  }
 ],
 "metadata": {
  "kernelspec": {
   "display_name": "Python 3 (ipykernel)",
   "language": "python",
   "name": "python3"
  },
  "language_info": {
   "codemirror_mode": {
    "name": "ipython",
    "version": 3
   },
   "file_extension": ".py",
   "mimetype": "text/x-python",
   "name": "python",
   "nbconvert_exporter": "python",
   "pygments_lexer": "ipython3",
   "version": "3.11.3"
  }
 },
 "nbformat": 4,
 "nbformat_minor": 4
}
