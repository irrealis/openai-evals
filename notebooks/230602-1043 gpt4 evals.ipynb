{
 "cells": [
  {
   "cell_type": "code",
   "execution_count": 1,
   "id": "44a43771-7a3f-47fd-acba-dd0cda7e5ab5",
   "metadata": {},
   "outputs": [],
   "source": [
    "from math_eval import *\n",
    "\n",
    "import pandas as pd\n",
    "from IPython.display import Markdown, Math, Latex\n",
    "import openai\n",
    "import ruamel.yaml\n",
    "from ruamel.yaml import YAML\n",
    "from ruamel.yaml.scalarstring import LiteralScalarString\n",
    "from ruamel.yaml.representer import RoundTripRepresenter\n",
    "\n",
    "import datetime\n",
    "import decimal\n",
    "import itertools\n",
    "import json\n",
    "import os\n",
    "import re\n",
    "import sys\n",
    "import time"
   ]
  },
  {
   "cell_type": "code",
   "execution_count": 2,
   "id": "517cc01a-83d0-4aa4-877b-cb6c422998be",
   "metadata": {},
   "outputs": [],
   "source": [
    "engine = sa.create_engine(\"sqlite:///230602-1045_math-evals.db\")\n",
    "session = Session(engine)\n",
    "Base.metadata.create_all(engine)"
   ]
  },
  {
   "cell_type": "code",
   "execution_count": 18,
   "id": "9346adc1-864b-4d53-a125-8439a2205e3b",
   "metadata": {},
   "outputs": [],
   "source": [
    "Base.metadata.drop_all(engine)"
   ]
  },
  {
   "cell_type": "code",
   "execution_count": 4,
   "id": "fc59d495-a7fb-454c-a7ec-f4f5d6b80f49",
   "metadata": {},
   "outputs": [],
   "source": [
    "session.rollback()"
   ]
  },
  {
   "cell_type": "code",
   "execution_count": 3,
   "id": "ba391b28-c6b5-4571-8db2-ca57c2a8d27d",
   "metadata": {},
   "outputs": [],
   "source": [
    "session.commit()"
   ]
  },
  {
   "cell_type": "code",
   "execution_count": 3,
   "id": "ba89cfe5-53b5-4108-b15d-3e6fe8f14f9f",
   "metadata": {},
   "outputs": [],
   "source": [
    "openai.api_key = os.environ['OPENAI_API_KEY']\n",
    "\n",
    "yaml=YAML()\n",
    "yaml.default_flow_style = False\n",
    "yaml.allow_unicode = True\n",
    "yaml.encoding = 'utf-8'\n",
    "\n",
    "def represent_decimal(self, data):\n",
    "  value = '0.' if data.is_zero() else str(data.normalize())\n",
    "  return self.represent_scalar(u'tag:yaml.org,2002:float', value)\n",
    "\n",
    "RoundTripRepresenter.add_representer(Decimal, represent_decimal)"
   ]
  },
  {
   "cell_type": "code",
   "execution_count": 12,
   "id": "60a792d6-fede-4e05-a474-5ab79c26cbaa",
   "metadata": {},
   "outputs": [
    {
     "data": {
      "text/plain": [
       "(<Model: {'id': 1, 'name': 'GPT-4 via ChatGPT-Plus'}>,\n",
       " <Model: {'id': 2, 'name': 'human'}>)"
      ]
     },
     "execution_count": 12,
     "metadata": {},
     "output_type": "execute_result"
    }
   ],
   "source": [
    "gpt4_chatgpt_plus = Model.get_or_create(session, dict(name='GPT-4 via ChatGPT-Plus'))\n",
    "example_model = Model.get_or_create(session, dict(name='human'))\n",
    "session.commit()\n",
    "gpt4_chatgpt_plus, example_model"
   ]
  },
  {
   "cell_type": "code",
   "execution_count": 13,
   "id": "11d67bde-4c51-4dcf-ab20-c73f369272c5",
   "metadata": {},
   "outputs": [
    {
     "name": "stdout",
     "output_type": "stream",
     "text": [
      "model_ct=2\n"
     ]
    }
   ],
   "source": [
    "model_ct = session.scalar(sa.select().with_only_columns(sa.func.count(Model.id)))\n",
    "print(f'{model_ct=}')"
   ]
  },
  {
   "cell_type": "code",
   "execution_count": 15,
   "id": "e855611f-f9bb-4474-a9b7-f09d70b30742",
   "metadata": {},
   "outputs": [
    {
     "name": "stdout",
     "output_type": "stream",
     "text": [
      "gpt4_ps=<ProblemSet: {'id': 1, 'name': 'GPT-4 calculus problem set 230531-1326'}>\n",
      "gpt4_ss=<SubmissionSet: {'id': 1, 'name': 'GPT-4 calculus submission set 230531-1326'}>\n",
      "example_ss=<SubmissionSet: {'id': 2, 'name': 'GPT-4 calculus example-submission set 230531-1326'}>\n",
      "gpt4_es=<EvaluationSet: {'id': 1, 'name': 'GPT-4 calculus evaluation set 230531-1326'}>\n",
      "example_es=<EvaluationSet: {'id': 2, 'name': 'GPT-4 calculus example-evaluation set 230531-1326'}>\n"
     ]
    }
   ],
   "source": [
    "gpt4_ps = ProblemSet.get_or_create(session,\n",
    "  dict(name='GPT-4 calculus problem set 230531-1326'),\n",
    ")\n",
    "gpt4_ss = SubmissionSet.get_or_create(session,\n",
    "  dict(name='GPT-4 calculus submission set 230531-1326'),\n",
    ")\n",
    "example_ss = SubmissionSet.get_or_create(session,\n",
    "  dict(name='GPT-4 calculus example-submission set 230531-1326'),\n",
    ")\n",
    "gpt4_es = EvaluationSet.get_or_create(session,\n",
    "  dict(name='GPT-4 calculus evaluation set 230531-1326'),\n",
    ")\n",
    "example_es = EvaluationSet.get_or_create(session,\n",
    "  dict(name='GPT-4 calculus example-evaluation set 230531-1326'),\n",
    ")\n",
    "session.commit()\n",
    "print(f'{gpt4_ps=}')\n",
    "print(f'{gpt4_ss=}')\n",
    "print(f'{example_ss=}')\n",
    "print(f'{gpt4_es=}')\n",
    "print(f'{example_es=}')"
   ]
  },
  {
   "cell_type": "code",
   "execution_count": 50,
   "id": "0d7e7cc9-6341-408f-87ce-a74b11ee0a67",
   "metadata": {},
   "outputs": [
    {
     "name": "stdout",
     "output_type": "stream",
     "text": [
      "ps_ct=1, ss_ct=<sqlalchemy.engine.result.ScalarResult object at 0x7f2a92ac75b0>, es_ct=<sqlalchemy.engine.result.ScalarResult object at 0x7f2a92322610>\n"
     ]
    }
   ],
   "source": [
    "ps_ct = session.scalars(sa.select().with_only_columns(sa.func.count(ProblemSet.id)))\n",
    "ss_ct = session.scalars(sa.select().with_only_columns(sa.func.count(SubmissionSet.id)))\n",
    "es_ct = session.scalars(sa.select().with_only_columns(sa.func.count(EvaluationSet.id)))\n",
    "print(f'{ps_ct=}, {ss_ct=}, {es_ct=}')"
   ]
  },
  {
   "cell_type": "code",
   "execution_count": null,
   "id": "fff2c048-e283-4be1-bbf4-cc40cc0d7035",
   "metadata": {},
   "outputs": [],
   "source": [
    "session.rollback()"
   ]
  },
  {
   "cell_type": "markdown",
   "id": "79a96401-9eb7-4ff8-8db2-492561548f93",
   "metadata": {},
   "source": [
    "def load_to_db(\n",
    "  session,\n",
    "  data,\n",
    "  submission_model,\n",
    "  example_submission_model,\n",
    "  evaluation_model,\n",
    "  example_evaluation_model,\n",
    "  problem_set,\n",
    "  submission_set,\n",
    "  example_submission_set,\n",
    "  evaluation_set,\n",
    "  example_evaluation_set,\n",
    "):\n",
    "  for p_data in data.get('problems', []):\n",
    "    p_id = p_data.get('id')\n",
    "    p_input = p_data.get('input')\n",
    "    p_ideal = p_data.get('ideal')\n",
    "    p_rubric = p_data.get('rubric')\n",
    "    if p_id is not None:\n",
    "      p = Problem.get_or_create(session, {'id': p_id})\n",
    "      p.input = p_input\n",
    "    else:\n",
    "      p = Problem.get_or_create(session, {'input': p_input})\n",
    "    if p_ideal is not None: p.ideal = p_ideal\n",
    "    if p_rubric is not None: p.rubric = p_rubric\n",
    "    p.problem_sets.append(problem_set)\n",
    "    \n",
    "    for s_data in p_data.get('submissions', []):\n",
    "      s_id = s_data.get('id')\n",
    "      s_completion = s_data.get('completion')\n",
    "      s_score = s_data.get('score')\n",
    "      s_is_example = s_data.get('is_example')\n",
    "      if s_id is not None:\n",
    "        s = Submission.get_or_create(session, {'id': s_id})\n",
    "        s.completion = s_completion\n",
    "      else:\n",
    "        s = Submission.get_or_create(session, {'completion': s_completion})\n",
    "      if s_score is not None: s.score = s_score\n",
    "      if s_is_example is not None: s.is_example = s_is_example\n",
    "      if s.is_example:\n",
    "        s.model = example_submission_model\n",
    "        s.submission_sets.append(example_submission_set)\n",
    "      else:\n",
    "        s.model = submission_model\n",
    "        s.submission_sets.append(submission_set)\n",
    "      s.problem = p\n",
    "    \n",
    "      for e_data in s_data.get('evaluations', []):\n",
    "        e_id = e_data.get('id')\n",
    "        e_completion = e_data.get('completion')\n",
    "        e_score = e_data.get('score')\n",
    "        if e_id is not None:\n",
    "          e = Evaluation.get_or_create(session, {'id': s_id})\n",
    "          e.completion = e_completion\n",
    "        else:\n",
    "          e = Evaluation.get_or_create(session, {'completion': e_completion})\n",
    "        if e_score is not None: e.score = e_score\n",
    "        if s.is_example:\n",
    "          e.model = example_evaluation_model\n",
    "          e.evaluation_sets.append(example_evaluation_set)\n",
    "        else:\n",
    "          e.model = evaluation_model\n",
    "          e.evaluation_sets.append(evaluation_set)\n",
    "        e.submission = s\n"
   ]
  },
  {
   "cell_type": "code",
   "execution_count": 42,
   "id": "d9a775bb-ca45-418a-a79a-3909af1cee49",
   "metadata": {},
   "outputs": [],
   "source": [
    "def update_or_create(cls, session, data, *l):\n",
    "  for search_args, update_args in l:\n",
    "    search_dict = {key:data[key] for key in search_args if key in data}\n",
    "    if len(search_dict) < len(search_args):\n",
    "      continue\n",
    "    update_dict = {key:data[key] for key in update_args if key in data}\n",
    "    item = cls.update_or_create(session, search_dict, update_dict)\n",
    "    if item:\n",
    "      return item\n",
    "  print(f'warning: no data found for {cls=}, {l=}')\n",
    "\n",
    "def load_to_db(sess, data):\n",
    "  example_submission_model = None\n",
    "  evaluation_model = None\n",
    "  example_evaluation_model = None\n",
    "  problem_set = None\n",
    "  submission_set = None\n",
    "  example_submission_set = None\n",
    "  evaluation_set = None\n",
    "  example_evaluation_set = None\n",
    "\n",
    "  general_lookups = (['id'], ['name']), (['name'], []),\n",
    "  #general_lookup = (['name'], ['notes'])\n",
    "  if 'example_submission_model' in data:\n",
    "    example_submission_model = update_or_create(Model, sess, data['example_submission_model'], *general_lookups)\n",
    "  if 'evaluation_model' in data:\n",
    "    evaluation_model = update_or_create(Model, sess, data['evaluation_model'], *general_lookups)\n",
    "  if 'example_evaluation_model' in data:\n",
    "    example_evaluation_model = update_or_create(Model, sess, data['example_evaluation_model'], *general_lookups)\n",
    "  if 'problem_set' in data:\n",
    "    problem_set = update_or_create(ProblemSet, sess, data['problem_set'], *general_lookups)\n",
    "  if 'submission_set' in data:\n",
    "    submission_set = update_or_create(SubmissionSet, sess, data['submission_set'], *general_lookups)\n",
    "  if 'example_submission_set' in data:\n",
    "    example_submission_set = update_or_create(SubmissionSet, sess, data['example_submission_set'], *general_lookups)\n",
    "  if 'evaluation_set' in data:\n",
    "    evaluation_set = update_or_create(EvaluationSet, sess, data['evaluation_set'], *general_lookups)\n",
    "  if 'example_evaluation_set' in data:\n",
    "    example_evaluation_set = update_or_create(EvaluationSet, sess, data['example_evaluation_set'], *general_lookups)\n",
    "\n",
    "  for pd in data.get('problems', []):\n",
    "    p = update_or_create(\n",
    "      Problem, sess, pd,\n",
    "      (['id'], ['input', 'ideal', 'rubric']),\n",
    "      (['input'], ['ideal', 'rubric']),\n",
    "    )\n",
    "    print(f'{p=}')\n",
    "    if problem_set: p.problem_sets.append(problem_set)\n",
    "    for sd in pd.get('submissions', []):\n",
    "      s = update_or_create(\n",
    "        Submission, sess, sd,\n",
    "        (['id'], ['completion', 'score', 'is_example', 'model_id']),\n",
    "        (['completion'], ['score', 'is_example', 'model_id']),\n",
    "      )\n",
    "      print(f'{s=}')\n",
    "      if s.is_example:\n",
    "        if example_submission_model: s.model = example_submission_model\n",
    "        if example_submission_set: s.submission_sets.append(example_submission_set)\n",
    "      else:\n",
    "        if submission_model: s.model = submission_model\n",
    "        if submission_set: s.submission_sets.append(submission_set)\n",
    "      s.problem = p\n",
    "      for ed in sd.get('evaluations', []):\n",
    "        e = update_or_create(\n",
    "          Evaluation, sess, ed,\n",
    "          (['id'], ['completion', 'score', 'is_example', 'model_id']),\n",
    "          (['completion'], ['score', 'is_example', 'model_id']),\n",
    "        )\n",
    "        print(f'{e=}')\n",
    "        if e.is_example:\n",
    "          if example_evaluation_model: e.model = example_evaluation_model\n",
    "          if example_evaluation_set: e.evaluation_sets.append(example_evaluation_set)\n",
    "        else:\n",
    "          if evaluation_model: e.model = evaluation_model\n",
    "          if evaluation_set: e.evaluation_sets.append(evaluation_set)\n",
    "        e.submission = s\n"
   ]
  },
  {
   "cell_type": "code",
   "execution_count": 14,
   "id": "4534e8b9-10a8-4185-b508-a98ebc448084",
   "metadata": {},
   "outputs": [],
   "source": [
    "data=dict()\n",
    "data['submission_model'] = gpt4_chatgpt_plus.as_dict()\n",
    "data['example_submission_model'] = example_model.as_dict()\n",
    "data['evaluation_model'] = gpt4_chatgpt_plus.as_dict()\n",
    "data['example_evaluation_model'] = example_model.as_dict()\n",
    "data['problem_set'] = gpt4_ps.as_dict()\n",
    "data['submission_set'] = gpt4_ss.as_dict()\n",
    "data['example_submission_set'] = example_ss.as_dict()\n",
    "data['evaluation_set'] = gpt4_es.as_dict()\n",
    "data['example_evaluation_set'] = example_es.as_dict()\n",
    "with open('calculus-responses-gpt4.yaml', 'r') as f:\n",
    "  data.update(yaml.load(f))"
   ]
  },
  {
   "cell_type": "markdown",
   "id": "32efb378-2a21-4caa-a29f-c76a175329d2",
   "metadata": {},
   "source": [
    "```python\n",
    "load_to_db(\n",
    "  sess = session,\n",
    "  data = data,\n",
    "  submission_model = gpt4_chatgpt_plus,\n",
    "  example_submission_model = example_model,\n",
    "  evaluation_model = gpt4_chatgpt_plus,\n",
    "  example_evaluation_model = example_model,\n",
    "  problem_set = gpt4_ps,\n",
    "  submission_set = gpt4_ss,\n",
    "  example_submission_set = example_ss,\n",
    "  evaluation_set = gpt4_es,\n",
    "  example_evaluation_set = example_es,\n",
    ")\n",
    "session.commit()\n",
    "```"
   ]
  },
  {
   "cell_type": "markdown",
   "id": "c08a3e80-db0b-44a2-88c5-f50152b07499",
   "metadata": {},
   "source": [
    "To evaluate the integral \\(\\int \\sec^3 x \\, dx\\), we can use the method of integration by parts. Let's proceed step by step:\n",
    "\n",
    "We start by applying the integration by parts formula:\n",
    "\\[\\int u \\, dv = uv - \\int v \\, du\\]\n",
    "\n",
    "In this case, we can choose:\n",
    "\\(u = \\sec^2 x\\) (to differentiate)\n",
    "\\(dv = \\sec x \\, dx\\) (to integrate)\n",
    "\n",
    "Let's find the differentials \\(du\\) and \\(v\\):\n",
    "\\(du = \\frac{d}{dx}(\\sec^2 x) \\, dx = 2\\sec x \\tan x \\, dx\\)\n",
    "\\(v = \\int \\sec x \\, dx = \\ln|\\sec x + \\tan x|\\)\n",
    "\n",
    "Now, we can apply the integration by parts formula:\n",
    "\\[\n",
    "\\begin{aligned}\n",
    "\\int \\sec^3 x \\, dx &= \\int u \\, dv \\\\\n",
    "&= uv - \\int v \\, du \\\\\n",
    "&= \\sec^2 x \\ln|\\sec x + \\tan x| - \\int \\ln|\\sec x + \\tan x| \\cdot 2\\sec x \\tan x \\, dx\n",
    "\\end{aligned}\n",
    "\\]\n",
    "\n",
    "Simplifying the last integral on the right-hand side, we get:\n",
    "\\[\n",
    "\\int \\sec^3 x \\, dx = \\sec^2 x \\ln|\\sec x + \\tan x| - 2\\int \\ln|\\sec x + \\tan x| \\sec x \\tan x \\, dx\n",
    "\\]\n",
    "\n",
    "At this point, we have a new integral to evaluate. We can proceed further by applying integration by parts again, or we can use a trigonometric identity to simplify the expression.\n",
    "\n",
    "Using the trigonometric identity \\(\\sec x = \\frac{1}{\\cos x}\\), we can rewrite the integral as:\n",
    "\\[\n",
    "\\int \\sec^3 x \\, dx = \\sec^2 x \\ln|\\sec x + \\tan x| - 2\\int \\ln|\\sec x + \\tan x| \\cdot \\frac{1}{\\cos x} \\cdot \\frac{\\sin x}{\\cos x} \\, dx\n",
    "\\]\n",
    "\n",
    "Simplifying the expression, we have:\n",
    "\\[\n",
    "\\int \\sec^3 x \\, dx = \\sec^2 x \\ln|\\sec x + \\tan x| - 2\\int \\frac{\\sin x}{\\cos^2 x} \\ln|\\sec x + \\tan x| \\, dx\n",
    "\\]\n",
    "\n",
    "At this point, we can substitute \\(u = \\sec x + \\tan x\\) to simplify the integral further. Then, \\(du = (\\sec x \\tan x + \\sec^2 x) \\, dx\\), which can be rearranged to \\(du = \\sec x (\\tan x + \\sec x) \\, dx\\).\n",
    "\n",
    "Substituting these values, we have:\n",
    "\\[\n",
    "\\int \\sec^3 x \\, dx = \\sec^2 x \\ln|\\sec x + \\tan x| - 2\\int \\frac{\\sin x}{\\cos^2 x} \\ln(u) \\, du\n",
    "\\]\n",
    "\n",
    "Next, we need to simplify the remaining integral. We can rewrite \\(\\frac{\\sin x}{\\cos^2 x}\\) as \\(\\frac{1}{\\cos x} \\cdot \\frac{\\sin x}{\\cos x}\\), and using the identity \\(\\tan x = \\frac{\\sin x}{\\cos x}\\), we have \\(\\frac{1}{\\cos x} \\cdot \\tan x ="
   ]
  },
  {
   "cell_type": "code",
   "execution_count": 21,
   "id": "84312fde-1705-495b-8b79-04c851f950c0",
   "metadata": {},
   "outputs": [],
   "source": [
    "session.rollback()"
   ]
  },
  {
   "cell_type": "code",
   "execution_count": 5,
   "id": "631cf498-c770-46e8-babd-e75b4c9ee52d",
   "metadata": {},
   "outputs": [],
   "source": [
    "data = dict()\n",
    "#with open('calculus-responses-gpt4.yaml', 'r') as f:\n",
    "#with open('gpt4-test-dump-2.yaml', 'r') as f:\n",
    "  data.update(yaml.load(f))"
   ]
  },
  {
   "cell_type": "code",
   "execution_count": 6,
   "id": "91acca19-f6c5-4f6d-805a-ebdd9ffb3527",
   "metadata": {},
   "outputs": [],
   "source": [
    "load_to_db(sess = session, data = data)\n",
    "session.commit()"
   ]
  },
  {
   "cell_type": "code",
   "execution_count": 7,
   "id": "beeceaac-67fd-423c-999a-91081b4c3786",
   "metadata": {},
   "outputs": [
    {
     "name": "stdout",
     "output_type": "stream",
     "text": [
      "problem_ct=1, submission_ct=1, evaluation_ct=1\n"
     ]
    }
   ],
   "source": [
    "problem_ct = session.scalar(sa.select().with_only_columns(sa.func.count(Problem.id)))\n",
    "submission_ct = session.scalar(sa.select().with_only_columns(sa.func.count(Submission.id)))\n",
    "evaluation_ct = session.scalar(sa.select().with_only_columns(sa.func.count(Evaluation.id)))\n",
    "print(f'{problem_ct=}, {submission_ct=}, {evaluation_ct=}')"
   ]
  },
  {
   "cell_type": "code",
   "execution_count": 8,
   "id": "153e98f6-d287-4cf6-9392-93c00d874da3",
   "metadata": {},
   "outputs": [
    {
     "ename": "NameError",
     "evalue": "name 'gpt4_ps' is not defined",
     "output_type": "error",
     "traceback": [
      "\u001b[0;31m---------------------------------------------------------------------------\u001b[0m",
      "\u001b[0;31mNameError\u001b[0m                                 Traceback (most recent call last)",
      "Cell \u001b[0;32mIn[8], line 1\u001b[0m\n\u001b[0;32m----> 1\u001b[0m \u001b[38;5;28mprint\u001b[39m(\u001b[38;5;124mf\u001b[39m\u001b[38;5;124m'\u001b[39m\u001b[38;5;132;01m{\u001b[39;00m\u001b[38;5;28mlen\u001b[39m(\u001b[43mgpt4_ps\u001b[49m\u001b[38;5;241m.\u001b[39mproblems)\u001b[38;5;132;01m=}\u001b[39;00m\u001b[38;5;124m'\u001b[39m)\n\u001b[1;32m      2\u001b[0m \u001b[38;5;28mprint\u001b[39m(\u001b[38;5;124mf\u001b[39m\u001b[38;5;124m'\u001b[39m\u001b[38;5;132;01m{\u001b[39;00m\u001b[38;5;28mlen\u001b[39m(gpt4_ss\u001b[38;5;241m.\u001b[39msubmissions)\u001b[38;5;132;01m=}\u001b[39;00m\u001b[38;5;124m,  \u001b[39m\u001b[38;5;132;01m{\u001b[39;00m\u001b[38;5;28mlen\u001b[39m(example_ss\u001b[38;5;241m.\u001b[39msubmissions)\u001b[38;5;132;01m=}\u001b[39;00m\u001b[38;5;124m'\u001b[39m)\n\u001b[1;32m      3\u001b[0m \u001b[38;5;28mprint\u001b[39m(\u001b[38;5;124mf\u001b[39m\u001b[38;5;124m'\u001b[39m\u001b[38;5;132;01m{\u001b[39;00m\u001b[38;5;28mlen\u001b[39m(gpt4_es\u001b[38;5;241m.\u001b[39mevaluations)\u001b[38;5;132;01m=}\u001b[39;00m\u001b[38;5;124m, \u001b[39m\u001b[38;5;132;01m{\u001b[39;00m\u001b[38;5;28mlen\u001b[39m(example_es\u001b[38;5;241m.\u001b[39mevaluations)\u001b[38;5;132;01m=}\u001b[39;00m\u001b[38;5;124m'\u001b[39m)\n",
      "\u001b[0;31mNameError\u001b[0m: name 'gpt4_ps' is not defined"
     ]
    }
   ],
   "source": [
    "print(f'{len(gpt4_ps.problems)=}')\n",
    "print(f'{len(gpt4_ss.submissions)=},  {len(example_ss.submissions)=}')\n",
    "print(f'{len(gpt4_es.evaluations)=}, {len(example_es.evaluations)=}')"
   ]
  },
  {
   "cell_type": "code",
   "execution_count": 16,
   "id": "d1ca78c9-876a-447e-8134-d11e75d37660",
   "metadata": {},
   "outputs": [
    {
     "data": {
      "text/plain": [
       "[<Submission: {'id': 1, 'completion': \"The area of a surface of revolution, when you're rotating the curve \\\\(y = f(x)\\\\), \\\\(a \\\\leq x \\\\leq b\\\\), around the x-axis is given by the formula:\\n\\n\\\\[A = 2\\\\pi \\\\int_{a}^{b} y \\\\sqrt{1 + \\\\left(\\\\frac{dy}{dx}\\\\right)^2} dx\\\\]\\n\\nThis equation comes from summing up the surface areas of infinitesimal frustums (which are approximately cylindrical for small enough changes in \\\\(x\\\\)) that make up the surface.\\n\\nIn our case, \\\\(f(x) = e^{-x}\\\\), and we're revolving about the x-axis for \\\\(0 \\\\leq x < \\\\infty\\\\). We need to compute the derivative of \\\\(f(x)\\\\), which is \\\\(f'(x) = -e^{-x}\\\\).\\n\\nPlugging these into the formula gives:\\n\\n\\\\[A = 2\\\\pi \\\\int_{0}^{\\\\infty} e^{-x} \\\\sqrt{1 + \\\\left(-e^{-x}\\\\right)^2} dx\\\\]\\n\\nThis integral simplifies to:\\n\\n\\\\[A = 2\\\\pi \\\\int_{0}^{\\\\infty} e^{-x} \\\\sqrt{1 + e^{-2x}} dx\\\\]\\n\\nWe can compute this using a trigonometric substitution. Let \\\\(e^{-x} = \\\\sinh{t}\\\\). Therefore, \\\\(e^{-2x} = \\\\sinh^2{t}\\\\), and \\\\(dx = -\\\\coth{t} dt\\\\).\\n\\nNow our integral is:\\n\\n\\\\[A = 2\\\\pi \\\\int_{\\\\infty}^{0} \\\\sinh{t} \\\\sqrt{1 + \\\\sinh^2{t}} (-\\\\coth{t}) dt\\\\]\\n\\nSimplifying \\\\(\\\\sqrt{1 + \\\\sinh^2{t}}\\\\) to \\\\(\\\\cosh{t}\\\\) gives:\\n\\n\\\\[A = -2\\\\pi \\\\int_{\\\\infty}^{0} \\\\sinh{t} \\\\cosh{t} \\\\coth{t} dt\\\\]\\n\\nUsing the identity \\\\(\\\\sinh{t}\\\\coth{t} = \\\\cosh{t}\\\\), the integral simplifies to:\\n\\n\\\\[A = -2\\\\pi \\\\int_{\\\\infty}^{0} \\\\cosh^2{t} dt\\\\]\\n\\nWe can evaluate this integral using the identity \\\\(\\\\cosh^2{t} = (1/2)(\\\\cosh{2t} + 1)\\\\). The integral of \\\\(\\\\cosh{2t}\\\\) over the entire real line is zero (because it's an even function), so the integral simplifies to:\\n\\n\\\\[A = -\\\\pi \\\\int_{\\\\infty}^{0} dt\\\\]\\n\\nThis is a simple integral: the answer is \\\\(\\\\pi t\\\\) evaluated from \\\\(\\\\infty\\\\) to 0, which gives:\\n\\n\\\\[A = \\\\pi \\\\cdot 0 - \\\\pi \\\\cdot \\\\infty = -\\\\infty\\\\]\\n\\nThis suggests that the area of the surface is infinite.\\n\\nSo the area of the surface generated by revolving \\\\(y=e^{-x}\\\\) around the x-axis is infinite.\", 'score': Decimal('0E-10'), 'is_example': True, 'model_id': 2, 'problem_id': 1}>]"
      ]
     },
     "execution_count": 16,
     "metadata": {},
     "output_type": "execute_result"
    }
   ],
   "source": [
    "session.scalars(sa.select(Submission)).all()"
   ]
  },
  {
   "cell_type": "code",
   "execution_count": 33,
   "id": "68d52560-2617-407c-bbc0-a5421acffd59",
   "metadata": {},
   "outputs": [
    {
     "data": {
      "text/plain": [
       "{'id': 1, 'name': 'GPT-4 via ChatGPT-Plus'}"
      ]
     },
     "execution_count": 33,
     "metadata": {},
     "output_type": "execute_result"
    }
   ],
   "source": [
    "gpt4_chatgpt_plus.as_dict()"
   ]
  },
  {
   "cell_type": "code",
   "execution_count": 18,
   "id": "862c4f04-a857-43a1-b5c5-c5f875eeca15",
   "metadata": {},
   "outputs": [],
   "source": [
    "def problem_ydict(problem):\n",
    "  d = problem.as_dict(keys=('id', 'input', 'ideal', 'rubric'))\n",
    "  for key in ('input', 'ideal', 'rubric'):\n",
    "    d[key] = LiteralScalarString(d[key])\n",
    "  return d\n",
    "\n",
    "def submission_ydict(submission):\n",
    "  return dict(\n",
    "    id=submission.id,\n",
    "    problem_id=submission.problem_id,\n",
    "    model_id=submission.model_id,\n",
    "    model_name=submission.model.name,\n",
    "    is_example=submission.is_example,\n",
    "    score=submission.score,\n",
    "    completion=LiteralScalarString(submission.completion),\n",
    "  )\n",
    "\n",
    "def evaluation_ydict(evaluation):\n",
    "  return dict(\n",
    "    id=evaluation.id,\n",
    "    submission_id=evaluation.submission.id,\n",
    "    problem_id=evaluation.submission.problem_id,\n",
    "    model_id=evaluation.model_id,\n",
    "    model_name=evaluation.model.name,\n",
    "    is_example=evaluation.is_example,\n",
    "    score=evaluation.score,\n",
    "    completion=LiteralScalarString(evaluation.completion),\n",
    "  )\n",
    "\n",
    "\n",
    "def problem_sets_ydict(problem_sets):\n",
    "  problem_sets_dict = {ps.id:ps.as_dict() for ps in problem_sets}\n",
    "  problems_dict = {\n",
    "    p.id:dict(itertools.chain([('problem_set_id', ps.id)], problem_ydict(p).items()))\n",
    "    for ps in problem_sets\n",
    "    for p in ps.problems\n",
    "  }\n",
    "  return dict(\n",
    "    problem_sets=list(problem_sets_dict.values()),\n",
    "    problems=list(problems_dict.values()),\n",
    "  )\n",
    "\n",
    "def submission_sets_ydict(submission_sets):\n",
    "  models_dict = {}\n",
    "  submission_sets_dict = {}\n",
    "  problems_dict = {}\n",
    "  for submission_set in submission_sets:\n",
    "    for submission in submission_set.submissions:\n",
    "      problem = submission.problem\n",
    "      \n",
    "      if submission_set in submission.submission_sets:\n",
    "        submission_sets_dict[submission_set.id] = submission_set.as_dict()\n",
    "\n",
    "      if submission.model_id not in models_dict:\n",
    "        models_dict[submission.model_id] = submission.model.as_dict()\n",
    "      \n",
    "      if problem.id in problems_dict:\n",
    "        problem_dict = problems_dict[problem_id]\n",
    "      else:\n",
    "        problem_dict = problem_ydict(problem)\n",
    "\n",
    "      problem_submissions = problem_dict.get('submissions', {})\n",
    "      problem_submissions[submission.id] = submission_ydict(submission)\n",
    "      problem_dict['submissions'] = problem_submissions\n",
    "\n",
    "      problems_dict[problem.id] = problem_dict\n",
    "\n",
    "  for k in problems_dict.keys():\n",
    "    problems_dict[k]['submissions'] = list(problems_dict[k]['submissions'].values())\n",
    "  \n",
    "  return dict(\n",
    "    models=list(models_dict.values()),\n",
    "    submission_sets=list(submission_sets_dict.values()),\n",
    "    problems=list(problems_dict.values()),\n",
    "  )\n",
    "\n",
    "def evaluation_sets_ydict(evaluation_sets):\n",
    "  models_dict = {}\n",
    "  evaluation_sets_dict = {}\n",
    "  problems_dict = {}\n",
    "  submissions_dict = {}\n",
    "  for evaluation_set in evaluation_sets:\n",
    "    for evaluation in evaluation_set.evaluations:\n",
    "      submission = evaluation.submission\n",
    "      problem = submission.problem\n",
    "\n",
    "      if evaluation_set not in evaluation_sets_dict:\n",
    "        evaluation_sets_dict[evaluation_set.id] = evaluation_set.as_dict()\n",
    "\n",
    "      if evaluation.model_id not in models_dict:\n",
    "        models_dict[evaluation.model_id] = evaluation.model.as_dict()\n",
    "      if submission.model_id not in models_dict:\n",
    "        models_dict[submission.model_id] = submission.model.as_dict()\n",
    "\n",
    "      if problem.id in problems_dict:\n",
    "        problem_dict = problems_dict[problem_id]\n",
    "      else:\n",
    "        problem_dict = problem_ydict(problem)\n",
    "\n",
    "      problem_submissions = problem_dict.get('submissions', {})\n",
    "      if submission.id in problem_submissions:\n",
    "        submission_dict = submissions_dict[submission.id]\n",
    "      else:\n",
    "        submission_dict = submission_ydict(submission)\n",
    "\n",
    "      submission_evaluations = submission_dict.get('evaluations', {})\n",
    "      if evaluation.id in submission_evaluations:\n",
    "        evaluation_dict = submission_evaluations[evaluation.id]\n",
    "      else:\n",
    "        evaluation_dict = evaluation_ydict(evaluation)\n",
    "\n",
    "      submission_evaluations[evaluation.id] = evaluation_dict\n",
    "      submission_dict['evaluations'] = submission_evaluations\n",
    "      \n",
    "      problem_submissions[submission.id] = submission_dict\n",
    "      submissions_dict[submission.id] = submission_dict\n",
    "      problem_dict['submissions'] = problem_submissions\n",
    "\n",
    "      problems_dict[problem.id] = problem_dict\n",
    "\n",
    "  for pk in problems_dict.keys():\n",
    "    for sk in problems_dict[pk]['submissions'].keys():\n",
    "      problems_dict[pk]['submissions'][sk]['evaluations'] = list(\n",
    "        problems_dict[pk]['submissions'][sk]['evaluations'].values()\n",
    "      )\n",
    "    problems_dict[pk]['submissions'] = list(\n",
    "      problems_dict[pk]['submissions'].values()\n",
    "    )\n",
    "  \n",
    "  return dict(\n",
    "    models=list(models_dict.values()),\n",
    "    evaluation_sets=list(evaluation_sets_dict.values()),\n",
    "    problems=list(problems_dict.values()),\n",
    "  )"
   ]
  },
  {
   "cell_type": "code",
   "execution_count": 10,
   "id": "3779ef13-a501-400e-8019-c6d3486a566d",
   "metadata": {},
   "outputs": [],
   "source": [
    "with open('gpt4-test-dump.yaml', 'w') as f:\n",
    "  yaml.dump(data, f)"
   ]
  },
  {
   "cell_type": "code",
   "execution_count": 51,
   "id": "c3e2b59d-e440-418d-9da7-f034bc3700aa",
   "metadata": {},
   "outputs": [],
   "source": [
    "#d = problem_ydict(session.scalars(sa.select(Problem)).first())\n",
    "#d = problem_sets_ydict(session.scalars(sa.select(ProblemSet)).all())\n",
    "#d = submission_sets_ydict(session.scalars(sa.select(SubmissionSet)).all())\n",
    "#d = evaluation_sets_ydict(session.scalars(sa.select(EvaluationSet)).all())\n",
    "\n",
    "d = dict()\n",
    "d['submission_model'] = gpt4_chatgpt_plus.as_dict()\n",
    "d['example_submission_model'] = example_model.as_dict()\n",
    "d['evaluation_model'] = gpt4_chatgpt_plus.as_dict()\n",
    "d['example_evaluation_model'] = example_model.as_dict()\n",
    "d['problem_set'] = gpt4_ps.as_dict()\n",
    "d['submission_set'] = gpt4_ss.as_dict()\n",
    "d['example_submission_set'] = example_ss.as_dict()\n",
    "d['evaluation_set'] = gpt4_es.as_dict()\n",
    "d['example_evaluation_set'] = example_es.as_dict()\n",
    "d.update(evaluation_sets_ydict(session.scalars(sa.select(EvaluationSet)).all()))\n"
   ]
  },
  {
   "cell_type": "code",
   "execution_count": 52,
   "id": "5a076d3a-c182-490e-9a10-2e6f5aa9b385",
   "metadata": {},
   "outputs": [],
   "source": [
    "with open('gpt4-test-dump-2.yaml', 'w') as f:\n",
    "  yaml.dump(d, f)"
   ]
  },
  {
   "cell_type": "code",
   "execution_count": 27,
   "id": "5ba9eb30-87dc-462c-9cac-df0be1f77ce7",
   "metadata": {},
   "outputs": [],
   "source": [
    "load_to_db(sess = session, data = d)\n",
    "#session.commit()"
   ]
  },
  {
   "cell_type": "code",
   "execution_count": 43,
   "id": "639458ae-c61b-4880-b996-064957a720f7",
   "metadata": {},
   "outputs": [],
   "source": [
    "data = dict()\n",
    "with open('gpt4-test-dump-2.yaml', 'r') as f:\n",
    "  data.update(yaml.load(f))"
   ]
  },
  {
   "cell_type": "code",
   "execution_count": 44,
   "id": "15ae7d46-5f39-49f6-a237-a3025d38b549",
   "metadata": {},
   "outputs": [
    {
     "name": "stdout",
     "output_type": "stream",
     "text": [
      "p=<Problem: {'id': 2, 'input': \"Evaluate the following integral:\\n\\\\[\\\\int \\\\sec^3 x dx\\\\]\\nExplain your reasoning. Use LaTeX delimiters '\\\\(' and '\\\\)' to write your answer.\", 'ideal': \"To evaluate the integral \\\\(\\\\int \\\\sec^3 x \\\\, dx\\\\), we can use the method of integration by parts. Let's proceed step by step:\\n\\nWe start by applying the integration by parts formula:\\n\\\\[\\\\int u \\\\, dv = uv - \\\\int v \\\\, du\\\\]\\n\\nIn this case, we can choose \\\\(u = \\\\sec x\\\\) and \\\\(dv = \\\\sec^2 x \\\\, dx\\\\).\\n\\nDifferentiating \\\\(u\\\\) with respect to \\\\(x\\\\), we obtain \\\\(du = \\\\sec x \\\\tan x \\\\, dx\\\\).\\nIntegrating \\\\(dv\\\\), we have \\\\(\\\\int \\\\sec^2 x \\\\, dx = \\\\tan x\\\\).\\n\\nUsing the integration by parts formula, \\\\(\\\\int u \\\\, dv = uv - \\\\int v \\\\, du\\\\), we can rewrite the integral as follows:\\n\\n\\\\[\\n\\\\begin{aligned}\\n\\\\int \\\\sec^3 x \\\\, dx &= \\\\int u \\\\, dv \\\\\\\\\\n&= \\\\sec x \\\\tan x - \\\\int \\\\tan x \\\\sec x \\\\tan x \\\\, dx \\\\\\\\\\n&= \\\\sec x \\\\tan x - \\\\int \\\\sec x \\\\tan^2 x \\\\, dx.\\n\\\\end{aligned}\\n\\\\]\\n\\nAt this point, we need to simplify the remaining integral, \\\\(\\\\int \\\\sec x \\\\tan^2 x \\\\, dx\\\\).\\n\\nUsing the identity \\\\(\\\\tan^2 x = \\\\sec^2 x - 1\\\\), we can rewrite the integral as:\\n\\n\\\\[\\n\\\\int \\\\sec x \\\\tan^2 x \\\\, dx = \\\\int \\\\sec x (\\\\sec^2 x - 1) \\\\, dx = \\\\int \\\\sec^3 x \\\\, dx - \\\\int \\\\sec x \\\\, dx.\\n\\\\]\\n\\nNow, let's substitute this result back into the original equation:\\n\\n\\\\[\\n\\\\begin{aligned}\\n\\\\int \\\\sec^3 x \\\\, dx &= \\\\sec x \\\\tan x - \\\\int \\\\sec^3 x \\\\, dx + \\\\int \\\\sec x \\\\, dx.\\n\\\\end{aligned}\\n\\\\]\\n\\nRearranging the terms, we find:\\n\\n\\\\[\\n\\\\begin{aligned}\\n2\\\\int \\\\sec^3 x \\\\, dx &= \\\\sec x \\\\tan x + \\\\int \\\\sec x \\\\, dx \\\\\\\\\\n\\\\int \\\\sec^3 x \\\\, dx &= \\\\frac{1}{2}\\\\left(\\\\sec x \\\\tan x + \\\\int \\\\sec x \\\\, dx\\\\right).\\n\\\\end{aligned}\\n\\\\]\\n\\nNow, let's evaluate the integral of \\\\(\\\\sec x\\\\):\\n\\n\\\\[\\n\\\\begin{aligned}\\n\\\\int \\\\sec x \\\\, dx &= \\\\int \\\\frac{1}{\\\\cos x} \\\\, dx \\\\\\\\\\n&= \\\\ln|\\\\sec x + \\\\tan x| + C,\\n\\\\end{aligned}\\n\\\\]\\n\\nwhere \\\\(C\\\\) is the constant of integration.\\n\\nFinally, substituting this result back into the equation for the integral \\\\(\\\\int \\\\sec^3 x \\\\, dx\\\\), we have:\\n\\n\\\\[\\n\\\\begin{aligned}\\n\\\\int \\\\sec^3 x \\\\, dx &= \\\\frac{1}{2}\\\\left(\\\\sec x \\\\tan x + \\\\ln|\\\\sec x + \\\\tan x|\\\\right) + C,\\n\\\\end{aligned}\\n\\\\]\\n\\nwhere \\\\(C\\\\) represents the constant of integration.\\n\\nThus, the evaluated integral is:\\n\\n\\\\[\\n\\\\int \\\\sec^3 x \\\\, dx = \\\\frac{1}{2}\\\\left(\\\\sec x \\\\tan x + \\\\ln|\\\\sec x + \\\\tan x|\\\\right) + C,\\n\\\\]\\n\\nwhere \\\\(C\\\\) is the constant of integration.\", 'rubric': \"- Final Answer Correctness (40 points): The final answer provided by the model matches the expert's answer in its simplest form.\\n  - 40: The final answer is mathematically equivalent to the expert's answer and is in its simplest form.\\n  - 0: The final answer is not mathematically equivalent to the expert's answer or is not in its simplest form.\\n- Explanation Correctness (30 points): The explanation provided by the model to arrive at the answer is correct and logically sound.\\n  - 30: The explanation correctly justifies each step of the problem-solving process.\\n  - 15: The explanation is partially correct but does not correctly justify each step of the problem-solving process.\\n  - 0: The explanation is incorrect or missing.\\n- Mathematical Rigor (20 points): The submission correctly uses mathematical identities and applies integral and derivative rules.\\n  - 20: The submission demonstrates full mathematical rigor.\\n  - 10: The submission demonstrates some mathematical rigor but makes minor mistakes.\\n  - 0: The submission does not demonstrate mathematical rigor.\\n- Correctness of Intermediate Steps (10 points): The submission correctly executes each step of the problem-solving process.\\n  - 10: All intermediate steps are correct.\\n  - 5: Some intermediate steps are correct.\\n  - 0: No intermediate steps are correct.\"}>\n",
      "s=<Submission: {'id': 2, 'completion': \"To evaluate the integral \\\\(\\\\int \\\\sec^3 x \\\\, dx\\\\), we can use the method of integration by parts. Let's proceed step by step:\\n\\nWe start by applying the integration by parts formula:\\n\\\\[\\\\int u \\\\, dv = uv - \\\\int v \\\\, du\\\\]\\n\\nIn this case, we can choose:\\n\\\\(u = \\\\sec^2 x\\\\) (to differentiate)\\n\\\\(dv = \\\\sec x \\\\, dx\\\\) (to integrate)\\n\\nLet's find the differentials \\\\(du\\\\) and \\\\(v\\\\):\\n\\\\(du = \\\\frac{d}{dx}(\\\\sec^2 x) \\\\, dx = 2\\\\sec x \\\\tan x \\\\, dx\\\\)\\n\\\\(v = \\\\int \\\\sec x \\\\, dx = \\\\ln|\\\\sec x + \\\\tan x|\\\\)\\n\\nNow, we can apply the integration by parts formula:\\n\\\\[\\n\\\\begin{aligned}\\n\\\\int \\\\sec^3 x \\\\, dx &= \\\\int u \\\\, dv \\\\\\\\\\n&= uv - \\\\int v \\\\, du \\\\\\\\\\n&= \\\\sec^2 x \\\\ln|\\\\sec x + \\\\tan x| - \\\\int \\\\ln|\\\\sec x + \\\\tan x| \\\\cdot 2\\\\sec x \\\\tan x \\\\, dx\\n\\\\end{aligned}\\n\\\\]\\n\\nSimplifying the last integral on the right-hand side, we get:\\n\\\\[\\n\\\\int \\\\sec^3 x \\\\, dx = \\\\sec^2 x \\\\ln|\\\\sec x + \\\\tan x| - 2\\\\int \\\\ln|\\\\sec x + \\\\tan x| \\\\sec x \\\\tan x \\\\, dx\\n\\\\]\\n\\nAt this point, we have a new integral to evaluate. We can proceed further by applying integration by parts again, or we can use a trigonometric identity to simplify the expression.\\n\\nUsing the trigonometric identity \\\\(\\\\sec x = \\\\frac{1}{\\\\cos x}\\\\), we can rewrite the integral as:\\n\\\\[\\n\\\\int \\\\sec^3 x \\\\, dx = \\\\sec^2 x \\\\ln|\\\\sec x + \\\\tan x| - 2\\\\int \\\\ln|\\\\sec x + \\\\tan x| \\\\cdot \\\\frac{1}{\\\\cos x} \\\\cdot \\\\frac{\\\\sin x}{\\\\cos x} \\\\, dx\\n\\\\]\\n\\nSimplifying the expression, we have:\\n\\\\[\\n\\\\int \\\\sec^3 x \\\\, dx = \\\\sec^2 x \\\\ln|\\\\sec x + \\\\tan x| - 2\\\\int \\\\frac{\\\\sin x}{\\\\cos^2 x} \\\\ln|\\\\sec x + \\\\tan x| \\\\, dx\\n\\\\]\\n\\nAt this point, we can substitute \\\\(u = \\\\sec x + \\\\tan x\\\\) to simplify the integral further. Then, \\\\(du = (\\\\sec x \\\\tan x + \\\\sec^2 x) \\\\, dx\\\\), which can be rearranged to \\\\(du = \\\\sec x (\\\\tan x + \\\\sec x) \\\\, dx\\\\).\\n\\nSubstituting these values, we have:\\n\\\\[\\n\\\\int \\\\sec^3 x \\\\, dx = \\\\sec^2 x \\\\ln|\\\\sec x + \\\\tan x| - 2\\\\int \\\\frac{\\\\sin x}{\\\\cos^2 x} \\\\ln(u) \\\\, du\\n\\\\]\\n\\nNext, we need to simplify the remaining integral. We can rewrite \\\\(\\\\frac{\\\\sin x}{\\\\cos^2 x}\\\\) as \\\\(\\\\frac{1}{\\\\cos x} \\\\cdot \\\\frac{\\\\sin x}{\\\\cos x}\\\\), and using the identity \\\\(\\\\tan x = \\\\frac{\\\\sin x}{\\\\cos x}\\\\), we have \\\\(\\\\frac{1}{\\\\cos x} \\\\cdot \\\\tan x =\", 'score': 0.0, 'is_example': True, 'model_id': 2, 'problem_id': 2}>\n"
     ]
    }
   ],
   "source": [
    "load_to_db(sess = session, data = data)"
   ]
  },
  {
   "cell_type": "code",
   "execution_count": 45,
   "id": "4b35aaf7-a530-4866-aa3f-7c9c550d734c",
   "metadata": {},
   "outputs": [],
   "source": [
    "session.commit()"
   ]
  },
  {
   "cell_type": "code",
   "execution_count": 55,
   "id": "df8090e1-0d3b-415a-93d7-7dd647f19eb3",
   "metadata": {},
   "outputs": [
    {
     "data": {
      "text/plain": [
       "[<ProblemSet: {'id': 1, 'name': 'GPT-4 calculus problem set 230531-1326'}>]"
      ]
     },
     "execution_count": 55,
     "metadata": {},
     "output_type": "execute_result"
    }
   ],
   "source": [
    "session.scalars(sa.select(Problem)).all()[-1].problem_sets"
   ]
  },
  {
   "cell_type": "code",
   "execution_count": 57,
   "id": "dc34118b-11bb-46f1-baf6-90aa93065a1e",
   "metadata": {},
   "outputs": [],
   "source": [
    "#d = problem_ydict(session.scalars(sa.select(Problem)).first())\n",
    "#d = problem_sets_ydict(session.scalars(sa.select(ProblemSet)).all())\n",
    "#d = submission_sets_ydict(session.scalars(sa.select(SubmissionSet)).all())\n",
    "#d = evaluation_sets_ydict(session.scalars(sa.select(EvaluationSet)).all())\n",
    "\n",
    "d = dict()\n",
    "d['submission_model'] = gpt4_chatgpt_plus.as_dict()\n",
    "d['example_submission_model'] = example_model.as_dict()\n",
    "d['evaluation_model'] = gpt4_chatgpt_plus.as_dict()\n",
    "d['example_evaluation_model'] = example_model.as_dict()\n",
    "d['problem_set'] = gpt4_ps.as_dict()\n",
    "d['submission_set'] = gpt4_ss.as_dict()\n",
    "d['example_submission_set'] = example_ss.as_dict()\n",
    "d['evaluation_set'] = gpt4_es.as_dict()\n",
    "d['example_evaluation_set'] = example_es.as_dict()\n",
    "d.update(submission_sets_ydict(session.scalars(sa.select(SubmissionSet)).all()))\n"
   ]
  },
  {
   "cell_type": "code",
   "execution_count": 58,
   "id": "d2c56684-44c9-4615-9f46-476d8a83db01",
   "metadata": {},
   "outputs": [],
   "source": [
    "with open('gpt4-test-dump-3.yaml', 'w') as f:\n",
    "  yaml.dump(d, f)"
   ]
  },
  {
   "cell_type": "code",
   "execution_count": null,
   "id": "f772e0b5-86ea-4bfc-9fa2-9da266ac1dd0",
   "metadata": {},
   "outputs": [],
   "source": []
  }
 ],
 "metadata": {
  "kernelspec": {
   "display_name": "Python 3 (ipykernel)",
   "language": "python",
   "name": "python3"
  },
  "language_info": {
   "codemirror_mode": {
    "name": "ipython",
    "version": 3
   },
   "file_extension": ".py",
   "mimetype": "text/x-python",
   "name": "python",
   "nbconvert_exporter": "python",
   "pygments_lexer": "ipython3",
   "version": "3.10.6"
  }
 },
 "nbformat": 4,
 "nbformat_minor": 5
}
